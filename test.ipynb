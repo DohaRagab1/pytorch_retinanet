{
 "metadata": {
  "language_info": {
   "codemirror_mode": {
    "name": "ipython",
    "version": 3
   },
   "file_extension": ".py",
   "mimetype": "text/x-python",
   "name": "python",
   "nbconvert_exporter": "python",
   "pygments_lexer": "ipython3",
   "version": "3.7.7-final"
  },
  "orig_nbformat": 2,
  "kernelspec": {
   "name": "python_defaultSpec_1597599731059",
   "display_name": "Python 3.7.7 64-bit ('pytorch': conda)"
  }
 },
 "nbformat": 4,
 "nbformat_minor": 2,
 "cells": [
  {
   "cell_type": "code",
   "execution_count": 17,
   "metadata": {
    "tags": []
   },
   "outputs": [],
   "source": [
    "import torch\n",
    "from torch import nn\n",
    "import matplotlib.pyplot as plt\n",
    "import numpy as np\n",
    "import matplotlib.cm as cmx\n",
    "import matplotlib.pyplot as plt\n",
    "import matplotlib.patheffects as patheffects\n",
    "import matplotlib.patches as patches\n",
    "\n",
    "FloatTensor = torch.FloatTensor\n",
    "\n",
    "def is_tuple(x): \n",
    "    res = isinstance(x, tuple)\n",
    "    return res"
   ]
  },
  {
   "cell_type": "code",
   "execution_count": 18,
   "metadata": {},
   "outputs": [],
   "source": [
    "def create_grid(size):\n",
    "    'Create a Grid of Given Size'\n",
    "    H, W = size if is_tuple(size) else (size,size)\n",
    "    grid = FloatTensor(H, W, 2)\n",
    "    linear_points = torch.linspace(-1+1/W, 1-1/W, W) if W > 1 else tensor([0.])\n",
    "    grid[:, :, 1] = torch.ger(torch.ones(H), linear_points).expand_as(grid[:, :, 0])\n",
    "    linear_points = torch.linspace(-1+1/H, 1-1/H, H) if H > 1 else tensor([0.])\n",
    "    grid[:, :, 0] = torch.ger(linear_points, torch.ones(W)).expand_as(grid[:, :, 1])\n",
    "    return grid.view(-1,2)"
   ]
  },
  {
   "cell_type": "code",
   "execution_count": 19,
   "metadata": {},
   "outputs": [],
   "source": [
    "def show_anchors(ancs, size):\n",
    "    \"\"\"Function to Draw the Anchors\"\"\"\n",
    "    _,ax = plt.subplots(1,1, figsize=(5,5))\n",
    "    ax.set_xticks(np.linspace(-1,1, size[1]+1))\n",
    "    ax.set_yticks(np.linspace(-1,1, size[0]+1))\n",
    "    ax.grid()\n",
    "    ax.scatter(ancs[:,1], ancs[:,0]) #y is first\n",
    "    ax.set_yticklabels([])\n",
    "    ax.set_xticklabels([])\n",
    "    ax.set_xlim(-1,1)\n",
    "    ax.set_ylim(1,-1) #-1 is top, 1 is bottom\n",
    "    for i, (x, y) in enumerate(zip(ancs[:, 1], ancs[:, 0])): ax.annotate(i, xy = (x,y))"
   ]
  },
  {
   "cell_type": "code",
   "execution_count": 20,
   "metadata": {},
   "outputs": [
    {
     "output_type": "display_data",
     "data": {
      "text/plain": "<Figure size 360x360 with 1 Axes>",
      "image/svg+xml": "<?xml version=\"1.0\" encoding=\"utf-8\" standalone=\"no\"?>\n<!DOCTYPE svg PUBLIC \"-//W3C//DTD SVG 1.1//EN\"\n  \"http://www.w3.org/Graphics/SVG/1.1/DTD/svg11.dtd\">\n<!-- Created with matplotlib (https://matplotlib.org/) -->\n<svg height=\"289.7pt\" version=\"1.1\" viewBox=\"0 0 296.9 289.7\" width=\"296.9pt\" xmlns=\"http://www.w3.org/2000/svg\" xmlns:xlink=\"http://www.w3.org/1999/xlink\">\n <defs>\n  <style type=\"text/css\">\n*{stroke-linecap:butt;stroke-linejoin:round;}\n  </style>\n </defs>\n <g id=\"figure_1\">\n  <g id=\"patch_1\">\n   <path d=\"M 0 289.7 \nL 296.9 289.7 \nL 296.9 0 \nL 0 0 \nz\n\"/>\n  </g>\n  <g id=\"axes_1\">\n   <g id=\"patch_2\">\n    <path d=\"M 10.7 279 \nL 289.7 279 \nL 289.7 7.2 \nL 10.7 7.2 \nz\n\"/>\n   </g>\n   <g id=\"PathCollection_1\">\n    <defs>\n     <path d=\"M 0 3 \nC 0.795609 3 1.55874 2.683901 2.12132 2.12132 \nC 2.683901 1.55874 3 0.795609 3 0 \nC 3 -0.795609 2.683901 -1.55874 2.12132 -2.12132 \nC 1.55874 -2.683901 0.795609 -3 0 -3 \nC -0.795609 -3 -1.55874 -2.683901 -2.12132 -2.12132 \nC -2.683901 -1.55874 -3 -0.795609 -3 0 \nC -3 0.795609 -2.683901 1.55874 -2.12132 2.12132 \nC -1.55874 2.683901 -0.795609 3 0 3 \nz\n\" id=\"m09458869c5\" style=\"stroke:#8dd3c7;\"/>\n    </defs>\n    <g clip-path=\"url(#p9e118acfbd)\">\n     <use style=\"fill:#8dd3c7;stroke:#8dd3c7;\" x=\"45.575\" xlink:href=\"#m09458869c5\" y=\"41.175\"/>\n     <use style=\"fill:#8dd3c7;stroke:#8dd3c7;\" x=\"115.325\" xlink:href=\"#m09458869c5\" y=\"41.175\"/>\n     <use style=\"fill:#8dd3c7;stroke:#8dd3c7;\" x=\"185.075\" xlink:href=\"#m09458869c5\" y=\"41.175\"/>\n     <use style=\"fill:#8dd3c7;stroke:#8dd3c7;\" x=\"254.825\" xlink:href=\"#m09458869c5\" y=\"41.175\"/>\n     <use style=\"fill:#8dd3c7;stroke:#8dd3c7;\" x=\"45.575\" xlink:href=\"#m09458869c5\" y=\"109.125\"/>\n     <use style=\"fill:#8dd3c7;stroke:#8dd3c7;\" x=\"115.325\" xlink:href=\"#m09458869c5\" y=\"109.125\"/>\n     <use style=\"fill:#8dd3c7;stroke:#8dd3c7;\" x=\"185.075\" xlink:href=\"#m09458869c5\" y=\"109.125\"/>\n     <use style=\"fill:#8dd3c7;stroke:#8dd3c7;\" x=\"254.825\" xlink:href=\"#m09458869c5\" y=\"109.125\"/>\n     <use style=\"fill:#8dd3c7;stroke:#8dd3c7;\" x=\"45.575\" xlink:href=\"#m09458869c5\" y=\"177.075\"/>\n     <use style=\"fill:#8dd3c7;stroke:#8dd3c7;\" x=\"115.325\" xlink:href=\"#m09458869c5\" y=\"177.075\"/>\n     <use style=\"fill:#8dd3c7;stroke:#8dd3c7;\" x=\"185.075\" xlink:href=\"#m09458869c5\" y=\"177.075\"/>\n     <use style=\"fill:#8dd3c7;stroke:#8dd3c7;\" x=\"254.825\" xlink:href=\"#m09458869c5\" y=\"177.075\"/>\n     <use style=\"fill:#8dd3c7;stroke:#8dd3c7;\" x=\"45.575\" xlink:href=\"#m09458869c5\" y=\"245.025\"/>\n     <use style=\"fill:#8dd3c7;stroke:#8dd3c7;\" x=\"115.325\" xlink:href=\"#m09458869c5\" y=\"245.025\"/>\n     <use style=\"fill:#8dd3c7;stroke:#8dd3c7;\" x=\"185.075\" xlink:href=\"#m09458869c5\" y=\"245.025\"/>\n     <use style=\"fill:#8dd3c7;stroke:#8dd3c7;\" x=\"254.825\" xlink:href=\"#m09458869c5\" y=\"245.025\"/>\n    </g>\n   </g>\n   <g id=\"matplotlib.axis_1\">\n    <g id=\"xtick_1\">\n     <g id=\"line2d_1\">\n      <path clip-path=\"url(#p9e118acfbd)\" d=\"M 10.7 279 \nL 10.7 7.2 \n\" style=\"fill:none;stroke:#ffffff;stroke-linecap:square;stroke-width:0.8;\"/>\n     </g>\n     <g id=\"line2d_2\">\n      <defs>\n       <path d=\"M 0 0 \nL 0 3.5 \n\" id=\"m7778511746\" style=\"stroke:#ffffff;stroke-width:0.8;\"/>\n      </defs>\n      <g>\n       <use style=\"fill:#ffffff;stroke:#ffffff;stroke-width:0.8;\" x=\"10.7\" xlink:href=\"#m7778511746\" y=\"279\"/>\n      </g>\n     </g>\n    </g>\n    <g id=\"xtick_2\">\n     <g id=\"line2d_3\">\n      <path clip-path=\"url(#p9e118acfbd)\" d=\"M 80.45 279 \nL 80.45 7.2 \n\" style=\"fill:none;stroke:#ffffff;stroke-linecap:square;stroke-width:0.8;\"/>\n     </g>\n     <g id=\"line2d_4\">\n      <g>\n       <use style=\"fill:#ffffff;stroke:#ffffff;stroke-width:0.8;\" x=\"80.45\" xlink:href=\"#m7778511746\" y=\"279\"/>\n      </g>\n     </g>\n    </g>\n    <g id=\"xtick_3\">\n     <g id=\"line2d_5\">\n      <path clip-path=\"url(#p9e118acfbd)\" d=\"M 150.2 279 \nL 150.2 7.2 \n\" style=\"fill:none;stroke:#ffffff;stroke-linecap:square;stroke-width:0.8;\"/>\n     </g>\n     <g id=\"line2d_6\">\n      <g>\n       <use style=\"fill:#ffffff;stroke:#ffffff;stroke-width:0.8;\" x=\"150.2\" xlink:href=\"#m7778511746\" y=\"279\"/>\n      </g>\n     </g>\n    </g>\n    <g id=\"xtick_4\">\n     <g id=\"line2d_7\">\n      <path clip-path=\"url(#p9e118acfbd)\" d=\"M 219.95 279 \nL 219.95 7.2 \n\" style=\"fill:none;stroke:#ffffff;stroke-linecap:square;stroke-width:0.8;\"/>\n     </g>\n     <g id=\"line2d_8\">\n      <g>\n       <use style=\"fill:#ffffff;stroke:#ffffff;stroke-width:0.8;\" x=\"219.95\" xlink:href=\"#m7778511746\" y=\"279\"/>\n      </g>\n     </g>\n    </g>\n    <g id=\"xtick_5\">\n     <g id=\"line2d_9\">\n      <path clip-path=\"url(#p9e118acfbd)\" d=\"M 289.7 279 \nL 289.7 7.2 \n\" style=\"fill:none;stroke:#ffffff;stroke-linecap:square;stroke-width:0.8;\"/>\n     </g>\n     <g id=\"line2d_10\">\n      <g>\n       <use style=\"fill:#ffffff;stroke:#ffffff;stroke-width:0.8;\" x=\"289.7\" xlink:href=\"#m7778511746\" y=\"279\"/>\n      </g>\n     </g>\n    </g>\n   </g>\n   <g id=\"matplotlib.axis_2\">\n    <g id=\"ytick_1\">\n     <g id=\"line2d_11\">\n      <path clip-path=\"url(#p9e118acfbd)\" d=\"M 10.7 7.2 \nL 289.7 7.2 \n\" style=\"fill:none;stroke:#ffffff;stroke-linecap:square;stroke-width:0.8;\"/>\n     </g>\n     <g id=\"line2d_12\">\n      <defs>\n       <path d=\"M 0 0 \nL -3.5 0 \n\" id=\"m0d1b3f1b25\" style=\"stroke:#ffffff;stroke-width:0.8;\"/>\n      </defs>\n      <g>\n       <use style=\"fill:#ffffff;stroke:#ffffff;stroke-width:0.8;\" x=\"10.7\" xlink:href=\"#m0d1b3f1b25\" y=\"7.2\"/>\n      </g>\n     </g>\n    </g>\n    <g id=\"ytick_2\">\n     <g id=\"line2d_13\">\n      <path clip-path=\"url(#p9e118acfbd)\" d=\"M 10.7 75.15 \nL 289.7 75.15 \n\" style=\"fill:none;stroke:#ffffff;stroke-linecap:square;stroke-width:0.8;\"/>\n     </g>\n     <g id=\"line2d_14\">\n      <g>\n       <use style=\"fill:#ffffff;stroke:#ffffff;stroke-width:0.8;\" x=\"10.7\" xlink:href=\"#m0d1b3f1b25\" y=\"75.15\"/>\n      </g>\n     </g>\n    </g>\n    <g id=\"ytick_3\">\n     <g id=\"line2d_15\">\n      <path clip-path=\"url(#p9e118acfbd)\" d=\"M 10.7 143.1 \nL 289.7 143.1 \n\" style=\"fill:none;stroke:#ffffff;stroke-linecap:square;stroke-width:0.8;\"/>\n     </g>\n     <g id=\"line2d_16\">\n      <g>\n       <use style=\"fill:#ffffff;stroke:#ffffff;stroke-width:0.8;\" x=\"10.7\" xlink:href=\"#m0d1b3f1b25\" y=\"143.1\"/>\n      </g>\n     </g>\n    </g>\n    <g id=\"ytick_4\">\n     <g id=\"line2d_17\">\n      <path clip-path=\"url(#p9e118acfbd)\" d=\"M 10.7 211.05 \nL 289.7 211.05 \n\" style=\"fill:none;stroke:#ffffff;stroke-linecap:square;stroke-width:0.8;\"/>\n     </g>\n     <g id=\"line2d_18\">\n      <g>\n       <use style=\"fill:#ffffff;stroke:#ffffff;stroke-width:0.8;\" x=\"10.7\" xlink:href=\"#m0d1b3f1b25\" y=\"211.05\"/>\n      </g>\n     </g>\n    </g>\n    <g id=\"ytick_5\">\n     <g id=\"line2d_19\">\n      <path clip-path=\"url(#p9e118acfbd)\" d=\"M 10.7 279 \nL 289.7 279 \n\" style=\"fill:none;stroke:#ffffff;stroke-linecap:square;stroke-width:0.8;\"/>\n     </g>\n     <g id=\"line2d_20\">\n      <g>\n       <use style=\"fill:#ffffff;stroke:#ffffff;stroke-width:0.8;\" x=\"10.7\" xlink:href=\"#m0d1b3f1b25\" y=\"279\"/>\n      </g>\n     </g>\n    </g>\n   </g>\n   <g id=\"patch_3\">\n    <path d=\"M 10.7 279 \nL 10.7 7.2 \n\" style=\"fill:none;stroke:#ffffff;stroke-linecap:square;stroke-linejoin:miter;stroke-width:0.8;\"/>\n   </g>\n   <g id=\"patch_4\">\n    <path d=\"M 289.7 279 \nL 289.7 7.2 \n\" style=\"fill:none;stroke:#ffffff;stroke-linecap:square;stroke-linejoin:miter;stroke-width:0.8;\"/>\n   </g>\n   <g id=\"patch_5\">\n    <path d=\"M 10.7 279 \nL 289.7 279 \n\" style=\"fill:none;stroke:#ffffff;stroke-linecap:square;stroke-linejoin:miter;stroke-width:0.8;\"/>\n   </g>\n   <g id=\"patch_6\">\n    <path d=\"M 10.7 7.2 \nL 289.7 7.2 \n\" style=\"fill:none;stroke:#ffffff;stroke-linecap:square;stroke-linejoin:miter;stroke-width:0.8;\"/>\n   </g>\n   <g id=\"text_1\">\n    <!-- 0 -->\n    <defs>\n     <path d=\"M 31.78125 66.40625 \nQ 24.171875 66.40625 20.328125 58.90625 \nQ 16.5 51.421875 16.5 36.375 \nQ 16.5 21.390625 20.328125 13.890625 \nQ 24.171875 6.390625 31.78125 6.390625 \nQ 39.453125 6.390625 43.28125 13.890625 \nQ 47.125 21.390625 47.125 36.375 \nQ 47.125 51.421875 43.28125 58.90625 \nQ 39.453125 66.40625 31.78125 66.40625 \nz\nM 31.78125 74.21875 \nQ 44.046875 74.21875 50.515625 64.515625 \nQ 56.984375 54.828125 56.984375 36.375 \nQ 56.984375 17.96875 50.515625 8.265625 \nQ 44.046875 -1.421875 31.78125 -1.421875 \nQ 19.53125 -1.421875 13.0625 8.265625 \nQ 6.59375 17.96875 6.59375 36.375 \nQ 6.59375 54.828125 13.0625 64.515625 \nQ 19.53125 74.21875 31.78125 74.21875 \nz\n\" id=\"DejaVuSans-48\"/>\n    </defs>\n    <g style=\"fill:#ffffff;\" transform=\"translate(45.575 41.175)scale(0.1 -0.1)\">\n     <use xlink:href=\"#DejaVuSans-48\"/>\n    </g>\n   </g>\n   <g id=\"text_2\">\n    <!-- 1 -->\n    <defs>\n     <path d=\"M 12.40625 8.296875 \nL 28.515625 8.296875 \nL 28.515625 63.921875 \nL 10.984375 60.40625 \nL 10.984375 69.390625 \nL 28.421875 72.90625 \nL 38.28125 72.90625 \nL 38.28125 8.296875 \nL 54.390625 8.296875 \nL 54.390625 0 \nL 12.40625 0 \nz\n\" id=\"DejaVuSans-49\"/>\n    </defs>\n    <g style=\"fill:#ffffff;\" transform=\"translate(115.325 41.175)scale(0.1 -0.1)\">\n     <use xlink:href=\"#DejaVuSans-49\"/>\n    </g>\n   </g>\n   <g id=\"text_3\">\n    <!-- 2 -->\n    <defs>\n     <path d=\"M 19.1875 8.296875 \nL 53.609375 8.296875 \nL 53.609375 0 \nL 7.328125 0 \nL 7.328125 8.296875 \nQ 12.9375 14.109375 22.625 23.890625 \nQ 32.328125 33.6875 34.8125 36.53125 \nQ 39.546875 41.84375 41.421875 45.53125 \nQ 43.3125 49.21875 43.3125 52.78125 \nQ 43.3125 58.59375 39.234375 62.25 \nQ 35.15625 65.921875 28.609375 65.921875 \nQ 23.96875 65.921875 18.8125 64.3125 \nQ 13.671875 62.703125 7.8125 59.421875 \nL 7.8125 69.390625 \nQ 13.765625 71.78125 18.9375 73 \nQ 24.125 74.21875 28.421875 74.21875 \nQ 39.75 74.21875 46.484375 68.546875 \nQ 53.21875 62.890625 53.21875 53.421875 \nQ 53.21875 48.921875 51.53125 44.890625 \nQ 49.859375 40.875 45.40625 35.40625 \nQ 44.1875 33.984375 37.640625 27.21875 \nQ 31.109375 20.453125 19.1875 8.296875 \nz\n\" id=\"DejaVuSans-50\"/>\n    </defs>\n    <g style=\"fill:#ffffff;\" transform=\"translate(185.075 41.175)scale(0.1 -0.1)\">\n     <use xlink:href=\"#DejaVuSans-50\"/>\n    </g>\n   </g>\n   <g id=\"text_4\">\n    <!-- 3 -->\n    <defs>\n     <path d=\"M 40.578125 39.3125 \nQ 47.65625 37.796875 51.625 33 \nQ 55.609375 28.21875 55.609375 21.1875 \nQ 55.609375 10.40625 48.1875 4.484375 \nQ 40.765625 -1.421875 27.09375 -1.421875 \nQ 22.515625 -1.421875 17.65625 -0.515625 \nQ 12.796875 0.390625 7.625 2.203125 \nL 7.625 11.71875 \nQ 11.71875 9.328125 16.59375 8.109375 \nQ 21.484375 6.890625 26.8125 6.890625 \nQ 36.078125 6.890625 40.9375 10.546875 \nQ 45.796875 14.203125 45.796875 21.1875 \nQ 45.796875 27.640625 41.28125 31.265625 \nQ 36.765625 34.90625 28.71875 34.90625 \nL 20.21875 34.90625 \nL 20.21875 43.015625 \nL 29.109375 43.015625 \nQ 36.375 43.015625 40.234375 45.921875 \nQ 44.09375 48.828125 44.09375 54.296875 \nQ 44.09375 59.90625 40.109375 62.90625 \nQ 36.140625 65.921875 28.71875 65.921875 \nQ 24.65625 65.921875 20.015625 65.03125 \nQ 15.375 64.15625 9.8125 62.3125 \nL 9.8125 71.09375 \nQ 15.4375 72.65625 20.34375 73.4375 \nQ 25.25 74.21875 29.59375 74.21875 \nQ 40.828125 74.21875 47.359375 69.109375 \nQ 53.90625 64.015625 53.90625 55.328125 \nQ 53.90625 49.265625 50.4375 45.09375 \nQ 46.96875 40.921875 40.578125 39.3125 \nz\n\" id=\"DejaVuSans-51\"/>\n    </defs>\n    <g style=\"fill:#ffffff;\" transform=\"translate(254.825 41.175)scale(0.1 -0.1)\">\n     <use xlink:href=\"#DejaVuSans-51\"/>\n    </g>\n   </g>\n   <g id=\"text_5\">\n    <!-- 4 -->\n    <defs>\n     <path d=\"M 37.796875 64.3125 \nL 12.890625 25.390625 \nL 37.796875 25.390625 \nz\nM 35.203125 72.90625 \nL 47.609375 72.90625 \nL 47.609375 25.390625 \nL 58.015625 25.390625 \nL 58.015625 17.1875 \nL 47.609375 17.1875 \nL 47.609375 0 \nL 37.796875 0 \nL 37.796875 17.1875 \nL 4.890625 17.1875 \nL 4.890625 26.703125 \nz\n\" id=\"DejaVuSans-52\"/>\n    </defs>\n    <g style=\"fill:#ffffff;\" transform=\"translate(45.575 109.125)scale(0.1 -0.1)\">\n     <use xlink:href=\"#DejaVuSans-52\"/>\n    </g>\n   </g>\n   <g id=\"text_6\">\n    <!-- 5 -->\n    <defs>\n     <path d=\"M 10.796875 72.90625 \nL 49.515625 72.90625 \nL 49.515625 64.59375 \nL 19.828125 64.59375 \nL 19.828125 46.734375 \nQ 21.96875 47.46875 24.109375 47.828125 \nQ 26.265625 48.1875 28.421875 48.1875 \nQ 40.625 48.1875 47.75 41.5 \nQ 54.890625 34.8125 54.890625 23.390625 \nQ 54.890625 11.625 47.5625 5.09375 \nQ 40.234375 -1.421875 26.90625 -1.421875 \nQ 22.3125 -1.421875 17.546875 -0.640625 \nQ 12.796875 0.140625 7.71875 1.703125 \nL 7.71875 11.625 \nQ 12.109375 9.234375 16.796875 8.0625 \nQ 21.484375 6.890625 26.703125 6.890625 \nQ 35.15625 6.890625 40.078125 11.328125 \nQ 45.015625 15.765625 45.015625 23.390625 \nQ 45.015625 31 40.078125 35.4375 \nQ 35.15625 39.890625 26.703125 39.890625 \nQ 22.75 39.890625 18.8125 39.015625 \nQ 14.890625 38.140625 10.796875 36.28125 \nz\n\" id=\"DejaVuSans-53\"/>\n    </defs>\n    <g style=\"fill:#ffffff;\" transform=\"translate(115.325 109.125)scale(0.1 -0.1)\">\n     <use xlink:href=\"#DejaVuSans-53\"/>\n    </g>\n   </g>\n   <g id=\"text_7\">\n    <!-- 6 -->\n    <defs>\n     <path d=\"M 33.015625 40.375 \nQ 26.375 40.375 22.484375 35.828125 \nQ 18.609375 31.296875 18.609375 23.390625 \nQ 18.609375 15.53125 22.484375 10.953125 \nQ 26.375 6.390625 33.015625 6.390625 \nQ 39.65625 6.390625 43.53125 10.953125 \nQ 47.40625 15.53125 47.40625 23.390625 \nQ 47.40625 31.296875 43.53125 35.828125 \nQ 39.65625 40.375 33.015625 40.375 \nz\nM 52.59375 71.296875 \nL 52.59375 62.3125 \nQ 48.875 64.0625 45.09375 64.984375 \nQ 41.3125 65.921875 37.59375 65.921875 \nQ 27.828125 65.921875 22.671875 59.328125 \nQ 17.53125 52.734375 16.796875 39.40625 \nQ 19.671875 43.65625 24.015625 45.921875 \nQ 28.375 48.1875 33.59375 48.1875 \nQ 44.578125 48.1875 50.953125 41.515625 \nQ 57.328125 34.859375 57.328125 23.390625 \nQ 57.328125 12.15625 50.6875 5.359375 \nQ 44.046875 -1.421875 33.015625 -1.421875 \nQ 20.359375 -1.421875 13.671875 8.265625 \nQ 6.984375 17.96875 6.984375 36.375 \nQ 6.984375 53.65625 15.1875 63.9375 \nQ 23.390625 74.21875 37.203125 74.21875 \nQ 40.921875 74.21875 44.703125 73.484375 \nQ 48.484375 72.75 52.59375 71.296875 \nz\n\" id=\"DejaVuSans-54\"/>\n    </defs>\n    <g style=\"fill:#ffffff;\" transform=\"translate(185.075 109.125)scale(0.1 -0.1)\">\n     <use xlink:href=\"#DejaVuSans-54\"/>\n    </g>\n   </g>\n   <g id=\"text_8\">\n    <!-- 7 -->\n    <defs>\n     <path d=\"M 8.203125 72.90625 \nL 55.078125 72.90625 \nL 55.078125 68.703125 \nL 28.609375 0 \nL 18.3125 0 \nL 43.21875 64.59375 \nL 8.203125 64.59375 \nz\n\" id=\"DejaVuSans-55\"/>\n    </defs>\n    <g style=\"fill:#ffffff;\" transform=\"translate(254.825 109.125)scale(0.1 -0.1)\">\n     <use xlink:href=\"#DejaVuSans-55\"/>\n    </g>\n   </g>\n   <g id=\"text_9\">\n    <!-- 8 -->\n    <defs>\n     <path d=\"M 31.78125 34.625 \nQ 24.75 34.625 20.71875 30.859375 \nQ 16.703125 27.09375 16.703125 20.515625 \nQ 16.703125 13.921875 20.71875 10.15625 \nQ 24.75 6.390625 31.78125 6.390625 \nQ 38.8125 6.390625 42.859375 10.171875 \nQ 46.921875 13.96875 46.921875 20.515625 \nQ 46.921875 27.09375 42.890625 30.859375 \nQ 38.875 34.625 31.78125 34.625 \nz\nM 21.921875 38.8125 \nQ 15.578125 40.375 12.03125 44.71875 \nQ 8.5 49.078125 8.5 55.328125 \nQ 8.5 64.0625 14.71875 69.140625 \nQ 20.953125 74.21875 31.78125 74.21875 \nQ 42.671875 74.21875 48.875 69.140625 \nQ 55.078125 64.0625 55.078125 55.328125 \nQ 55.078125 49.078125 51.53125 44.71875 \nQ 48 40.375 41.703125 38.8125 \nQ 48.828125 37.15625 52.796875 32.3125 \nQ 56.78125 27.484375 56.78125 20.515625 \nQ 56.78125 9.90625 50.3125 4.234375 \nQ 43.84375 -1.421875 31.78125 -1.421875 \nQ 19.734375 -1.421875 13.25 4.234375 \nQ 6.78125 9.90625 6.78125 20.515625 \nQ 6.78125 27.484375 10.78125 32.3125 \nQ 14.796875 37.15625 21.921875 38.8125 \nz\nM 18.3125 54.390625 \nQ 18.3125 48.734375 21.84375 45.5625 \nQ 25.390625 42.390625 31.78125 42.390625 \nQ 38.140625 42.390625 41.71875 45.5625 \nQ 45.3125 48.734375 45.3125 54.390625 \nQ 45.3125 60.0625 41.71875 63.234375 \nQ 38.140625 66.40625 31.78125 66.40625 \nQ 25.390625 66.40625 21.84375 63.234375 \nQ 18.3125 60.0625 18.3125 54.390625 \nz\n\" id=\"DejaVuSans-56\"/>\n    </defs>\n    <g style=\"fill:#ffffff;\" transform=\"translate(45.575 177.075)scale(0.1 -0.1)\">\n     <use xlink:href=\"#DejaVuSans-56\"/>\n    </g>\n   </g>\n   <g id=\"text_10\">\n    <!-- 9 -->\n    <defs>\n     <path d=\"M 10.984375 1.515625 \nL 10.984375 10.5 \nQ 14.703125 8.734375 18.5 7.8125 \nQ 22.3125 6.890625 25.984375 6.890625 \nQ 35.75 6.890625 40.890625 13.453125 \nQ 46.046875 20.015625 46.78125 33.40625 \nQ 43.953125 29.203125 39.59375 26.953125 \nQ 35.25 24.703125 29.984375 24.703125 \nQ 19.046875 24.703125 12.671875 31.3125 \nQ 6.296875 37.9375 6.296875 49.421875 \nQ 6.296875 60.640625 12.9375 67.421875 \nQ 19.578125 74.21875 30.609375 74.21875 \nQ 43.265625 74.21875 49.921875 64.515625 \nQ 56.59375 54.828125 56.59375 36.375 \nQ 56.59375 19.140625 48.40625 8.859375 \nQ 40.234375 -1.421875 26.421875 -1.421875 \nQ 22.703125 -1.421875 18.890625 -0.6875 \nQ 15.09375 0.046875 10.984375 1.515625 \nz\nM 30.609375 32.421875 \nQ 37.25 32.421875 41.125 36.953125 \nQ 45.015625 41.5 45.015625 49.421875 \nQ 45.015625 57.28125 41.125 61.84375 \nQ 37.25 66.40625 30.609375 66.40625 \nQ 23.96875 66.40625 20.09375 61.84375 \nQ 16.21875 57.28125 16.21875 49.421875 \nQ 16.21875 41.5 20.09375 36.953125 \nQ 23.96875 32.421875 30.609375 32.421875 \nz\n\" id=\"DejaVuSans-57\"/>\n    </defs>\n    <g style=\"fill:#ffffff;\" transform=\"translate(115.325 177.075)scale(0.1 -0.1)\">\n     <use xlink:href=\"#DejaVuSans-57\"/>\n    </g>\n   </g>\n   <g id=\"text_11\">\n    <!-- 10 -->\n    <g style=\"fill:#ffffff;\" transform=\"translate(185.075 177.075)scale(0.1 -0.1)\">\n     <use xlink:href=\"#DejaVuSans-49\"/>\n     <use x=\"63.623047\" xlink:href=\"#DejaVuSans-48\"/>\n    </g>\n   </g>\n   <g id=\"text_12\">\n    <!-- 11 -->\n    <g style=\"fill:#ffffff;\" transform=\"translate(254.825 177.075)scale(0.1 -0.1)\">\n     <use xlink:href=\"#DejaVuSans-49\"/>\n     <use x=\"63.623047\" xlink:href=\"#DejaVuSans-49\"/>\n    </g>\n   </g>\n   <g id=\"text_13\">\n    <!-- 12 -->\n    <g style=\"fill:#ffffff;\" transform=\"translate(45.575 245.025)scale(0.1 -0.1)\">\n     <use xlink:href=\"#DejaVuSans-49\"/>\n     <use x=\"63.623047\" xlink:href=\"#DejaVuSans-50\"/>\n    </g>\n   </g>\n   <g id=\"text_14\">\n    <!-- 13 -->\n    <g style=\"fill:#ffffff;\" transform=\"translate(115.325 245.025)scale(0.1 -0.1)\">\n     <use xlink:href=\"#DejaVuSans-49\"/>\n     <use x=\"63.623047\" xlink:href=\"#DejaVuSans-51\"/>\n    </g>\n   </g>\n   <g id=\"text_15\">\n    <!-- 14 -->\n    <g style=\"fill:#ffffff;\" transform=\"translate(185.075 245.025)scale(0.1 -0.1)\">\n     <use xlink:href=\"#DejaVuSans-49\"/>\n     <use x=\"63.623047\" xlink:href=\"#DejaVuSans-52\"/>\n    </g>\n   </g>\n   <g id=\"text_16\">\n    <!-- 15 -->\n    <g style=\"fill:#ffffff;\" transform=\"translate(254.825 245.025)scale(0.1 -0.1)\">\n     <use xlink:href=\"#DejaVuSans-49\"/>\n     <use x=\"63.623047\" xlink:href=\"#DejaVuSans-53\"/>\n    </g>\n   </g>\n  </g>\n </g>\n <defs>\n  <clipPath id=\"p9e118acfbd\">\n   <rect height=\"271.8\" width=\"279\" x=\"10.7\" y=\"7.2\"/>\n  </clipPath>\n </defs>\n</svg>\n",
      "image/png": "[encoded data removed]"
     },
     "metadata": {}
    }
   ],
   "source": [
    "size = (4,4)\n",
    "show_anchors(create_grid(size), size)"
   ]
  },
  {
   "cell_type": "code",
   "execution_count": 21,
   "metadata": {},
   "outputs": [
    {
     "output_type": "execute_result",
     "data": {
      "text/plain": "tensor([[-0.7500, -0.7500],\n        [-0.7500, -0.2500],\n        [-0.7500,  0.2500],\n        [-0.7500,  0.7500],\n        [-0.2500, -0.7500],\n        [-0.2500, -0.2500],\n        [-0.2500,  0.2500],\n        [-0.2500,  0.7500],\n        [ 0.2500, -0.7500],\n        [ 0.2500, -0.2500],\n        [ 0.2500,  0.2500],\n        [ 0.2500,  0.7500],\n        [ 0.7500, -0.7500],\n        [ 0.7500, -0.2500],\n        [ 0.7500,  0.2500],\n        [ 0.7500,  0.7500]])"
     },
     "metadata": {},
     "execution_count": 21
    }
   ],
   "source": [
    "create_grid(size)"
   ]
  },
  {
   "cell_type": "code",
   "execution_count": 23,
   "metadata": {},
   "outputs": [],
   "source": [
    "from torchvision import models"
   ]
  },
  {
   "cell_type": "code",
   "execution_count": 30,
   "metadata": {},
   "outputs": [],
   "source": [
    "m1 = models.resnet18()\n",
    "m2 = models.resnet34()\n",
    "m3 = models.resnet50()"
   ]
  },
  {
   "cell_type": "code",
   "execution_count": 31,
   "metadata": {},
   "outputs": [],
   "source": [
    "outputs = {}\n",
    "def hook_output(self, input, output):\n",
    "    outputs[self] = output"
   ]
  },
  {
   "cell_type": "code",
   "execution_count": 32,
   "metadata": {},
   "outputs": [
    {
     "output_type": "execute_result",
     "data": {
      "text/plain": "<torch.utils.hooks.RemovableHandle at 0x7fcf8c62d2d0>"
     },
     "metadata": {},
     "execution_count": 32
    }
   ],
   "source": [
    "m1.layer2.register_forward_hook(hook_output)\n",
    "m1.layer3.register_forward_hook(hook_output)\n",
    "m1.layer4.register_forward_hook(hook_output)"
   ]
  },
  {
   "cell_type": "code",
   "execution_count": 33,
   "metadata": {},
   "outputs": [],
   "source": [
    "_ = m1(torch.ones(1, 3, 600, 600))"
   ]
  },
  {
   "cell_type": "code",
   "execution_count": 38,
   "metadata": {},
   "outputs": [
    {
     "output_type": "execute_result",
     "data": {
      "text/plain": "torch.Size([1, 128, 75, 75])"
     },
     "metadata": {},
     "execution_count": 38
    }
   ],
   "source": [
    "outputs[m1.layer2].shape"
   ]
  },
  {
   "cell_type": "code",
   "execution_count": 39,
   "metadata": {},
   "outputs": [
    {
     "output_type": "execute_result",
     "data": {
      "text/plain": "8.0"
     },
     "metadata": {},
     "execution_count": 39
    }
   ],
   "source": [
    "600/75"
   ]
  },
  {
   "cell_type": "code",
   "execution_count": 40,
   "metadata": {},
   "outputs": [
    {
     "output_type": "execute_result",
     "data": {
      "text/plain": "torch.Size([1, 256, 38, 38])"
     },
     "metadata": {},
     "execution_count": 40
    }
   ],
   "source": [
    "outputs[m1.layer3].shape"
   ]
  },
  {
   "cell_type": "code",
   "execution_count": 41,
   "metadata": {},
   "outputs": [
    {
     "output_type": "execute_result",
     "data": {
      "text/plain": "15.789473684210526"
     },
     "metadata": {},
     "execution_count": 41
    }
   ],
   "source": [
    "600/38"
   ]
  },
  {
   "cell_type": "code",
   "execution_count": null,
   "metadata": {},
   "outputs": [],
   "source": []
  },
  {
   "cell_type": "code",
   "execution_count": 79,
   "metadata": {},
   "outputs": [],
   "source": [
    "import torch\n",
    "from torch import nn\n",
    "from torch.jit.annotations import List, Optional, Dict\n",
    "\n",
    "\n",
    "class AnchorGenerator(nn.Module):\n",
    "    \"\"\"\n",
    "    Module that generates anchors for a set of feature maps and\n",
    "    image sizes.\n",
    "    The module support computing anchors at multiple sizes and aspect ratios\n",
    "    per feature map. This module assumes aspect ratio = height / width for\n",
    "    each anchor.\n",
    "    sizes and aspect_ratios should have the same number of elements, and it should\n",
    "    correspond to the number of feature maps.\n",
    "    sizes[i] and aspect_ratios[i] can have an arbitrary number of elements,\n",
    "    and AnchorGenerator will output a set of sizes[i] * aspect_ratios[i] anchors\n",
    "    per spatial location for feature map i.\n",
    "    Arguments:\n",
    "        sizes (Tuple[Tuple[int]]):\n",
    "        aspect_ratios (Tuple[Tuple[float]]):\n",
    "    \"\"\"\n",
    "\n",
    "    __annotations__ = {\n",
    "        \"cell_anchors\": Optional[List[torch.Tensor]],\n",
    "        \"_cache\": Dict[str, List[torch.Tensor]]\n",
    "    }\n",
    "\n",
    "    def __init__(\n",
    "        self,\n",
    "        sizes=tuple((x, int(x * 2 ** (1.0 / 3)), int(x * 2 ** (2.0 / 3))) for x in [32, 64, 128, 256, 512]),\n",
    "        aspect_ratios=((0.5, 1.0, 2.0),) * 5,\n",
    "    ):\n",
    "        super(AnchorGenerator, self).__init__()\n",
    "\n",
    "        if not isinstance(sizes[0], (list, tuple)):\n",
    "            # TODO change this\n",
    "            sizes = tuple((s,) for s in sizes)\n",
    "        if not isinstance(aspect_ratios[0], (list, tuple)):\n",
    "            aspect_ratios = (aspect_ratios,) * len(sizes)\n",
    "\n",
    "        assert len(sizes) == len(aspect_ratios)\n",
    "\n",
    "        self.sizes = sizes\n",
    "        self.aspect_ratios = aspect_ratios\n",
    "        self.cell_anchors = None\n",
    "        self._cache = {}\n",
    "\n",
    "    # TODO: https://github.com/pytorch/pytorch/issues/26792\n",
    "    # For every (aspect_ratios, scales) combination, output a zero-centered anchor with those values.\n",
    "    # (scales, aspect_ratios) are usually an element of zip(self.scales, self.aspect_ratios)\n",
    "    # This method assumes aspect ratio = height / width for an anchor.\n",
    "    def generate_anchors(self, scales, aspect_ratios, dtype=torch.float32, device=\"cpu\"):\n",
    "        # type: (List[int], List[float], int, Device) -> Tensor  # noqa: F821\n",
    "        scales = torch.as_tensor(scales, dtype=dtype, device=device)\n",
    "        aspect_ratios = torch.as_tensor(aspect_ratios, dtype=dtype, device=device)\n",
    "        h_ratios = torch.sqrt(aspect_ratios)\n",
    "        w_ratios = 1 / h_ratios\n",
    "\n",
    "        ws = (w_ratios[:, None] * scales[None, :]).view(-1)\n",
    "        hs = (h_ratios[:, None] * scales[None, :]).view(-1)\n",
    "\n",
    "        base_anchors = torch.stack([-ws, -hs, ws, hs], dim=1) / 2\n",
    "        return base_anchors.round()\n",
    "\n",
    "    def set_cell_anchors(self, dtype, device):\n",
    "        # type: (int, Device) -> None  # noqa: F821\n",
    "        if self.cell_anchors is not None:\n",
    "            cell_anchors = self.cell_anchors\n",
    "            assert cell_anchors is not None\n",
    "            # suppose that all anchors have the same device\n",
    "            # which is a valid assumption in the current state of the codebase\n",
    "            if cell_anchors[0].device == device:\n",
    "                return\n",
    "\n",
    "        cell_anchors = [\n",
    "            self.generate_anchors(\n",
    "                sizes,\n",
    "                aspect_ratios,\n",
    "                dtype,\n",
    "                device\n",
    "            )\n",
    "            for sizes, aspect_ratios in zip(self.sizes, self.aspect_ratios)\n",
    "        ]\n",
    "        self.cell_anchors = cell_anchors\n",
    "\n",
    "    def num_anchors_per_location(self):\n",
    "        return [len(s) * len(a) for s, a in zip(self.sizes, self.aspect_ratios)]\n",
    "\n",
    "    # For every combination of (a, (g, s), i) in (self.cell_anchors, zip(grid_sizes, strides), 0:2),\n",
    "    # output g[i] anchors that are s[i] distance apart in direction i, with the same dimensions as a.\n",
    "    def grid_anchors(self, grid_sizes, strides):\n",
    "        # type: (List[List[int]], List[List[Tensor]]) -> List[Tensor]\n",
    "        anchors = []\n",
    "        cell_anchors = self.cell_anchors\n",
    "        assert cell_anchors is not None\n",
    "\n",
    "        for size, stride, base_anchors in zip(\n",
    "            grid_sizes, strides, cell_anchors\n",
    "        ):\n",
    "            grid_height, grid_width = size\n",
    "            stride_height, stride_width = stride\n",
    "            device = base_anchors.device\n",
    "\n",
    "            # For output anchor, compute [x_center, y_center, x_center, y_center]\n",
    "            shifts_x = torch.arange(\n",
    "                0, grid_width, dtype=torch.float32, device=device\n",
    "            ) * stride_width\n",
    "            shifts_y = torch.arange(\n",
    "                0, grid_height, dtype=torch.float32, device=device\n",
    "            ) * stride_height\n",
    "            shift_y, shift_x = torch.meshgrid(shifts_y, shifts_x)\n",
    "            shift_x = shift_x.reshape(-1)\n",
    "            shift_y = shift_y.reshape(-1)\n",
    "            shifts = torch.stack((shift_x, shift_y, shift_x, shift_y), dim=1)\n",
    "\n",
    "            # For every (base anchor, output anchor) pair,\n",
    "            # offset each zero-centered base anchor by the center of the output anchor.\n",
    "            anchors.append(\n",
    "                (shifts.view(-1, 1, 4) + base_anchors.view(1, -1, 4)).reshape(-1, 4)\n",
    "            )\n",
    "\n",
    "        return anchors\n",
    "\n",
    "    def cached_grid_anchors(self, grid_sizes, strides):\n",
    "        # type: (List[List[int]], List[List[Tensor]]) -> List[Tensor]\n",
    "        key = str(grid_sizes) + str(strides)\n",
    "        if key in self._cache:\n",
    "            return self._cache[key]\n",
    "        anchors = self.grid_anchors(grid_sizes, strides)\n",
    "        self._cache[key] = anchors\n",
    "        return anchors\n",
    "\n",
    "    def forward(self, image_list, feature_maps):\n",
    "        # type: (ImageList, List[Tensor]) -> List[Tensor]\n",
    "        grid_sizes = list([feature_map.shape[-2:] for feature_map in feature_maps])\n",
    "        image_size = image_list.shape[-2:]\n",
    "        \n",
    "        dtype, device = feature_maps[0].dtype, feature_maps[0].device\n",
    "        strides = [[torch.tensor(image_size[0] // g[0], dtype=torch.int64, device=device),\n",
    "                    torch.tensor(image_size[1] // g[1], dtype=torch.int64, device=device)] for g in grid_sizes]\n",
    "        self.set_cell_anchors(dtype, device)\n",
    "        anchors_over_all_feature_maps = self.cached_grid_anchors(grid_sizes, strides)\n",
    "        anchors = torch.jit.annotate(List[List[torch.Tensor]], [])\n",
    "        \n",
    "        for _ in range(len(feature_maps)):\n",
    "            anchors_in_image = []\n",
    "            for anchors_per_feature_map in anchors_over_all_feature_maps:\n",
    "                anchors_in_image.append(anchors_per_feature_map)\n",
    "            anchors.append(anchors_in_image)\n",
    "        anchors = [torch.cat(anchors_per_image) for anchors_per_image in anchors]\n",
    "        # Clear the cache in case that memory leaks.\n",
    "        self._cache.clear()\n",
    "        return anchors"
   ]
  },
  {
   "cell_type": "code",
   "execution_count": 80,
   "metadata": {},
   "outputs": [
    {
     "output_type": "execute_result",
     "data": {
      "text/plain": "(torch.Size([1, 128, 75, 75]),\n torch.Size([1, 512, 19, 19]),\n torch.Size([1, 256, 38, 38]))"
     },
     "metadata": {},
     "execution_count": 80
    }
   ],
   "source": [
    "ag = AnchorGenerator()\n",
    "\n",
    "outputs[m1.layer2].shape, outputs[m1.layer4].shape, outputs[m1.layer3].shape"
   ]
  },
  {
   "cell_type": "code",
   "execution_count": 81,
   "metadata": {
    "tags": []
   },
   "outputs": [],
   "source": [
    "t1 = torch.ones_like(outputs[m1.layer2])\n",
    "t2 = torch.ones_like(outputs[m1.layer3])\n",
    "t3 = torch.ones_like(outputs[m1.layer4])\n",
    "feature_maps = [t1, t2, t2]\n",
    "\n",
    "out = ag(torch.ones((1, 3, 600, 600)), feature_maps)"
   ]
  },
  {
   "cell_type": "code",
   "execution_count": 82,
   "metadata": {},
   "outputs": [
    {
     "output_type": "execute_result",
     "data": {
      "text/plain": "3"
     },
     "metadata": {},
     "execution_count": 82
    }
   ],
   "source": [
    "len(out)"
   ]
  },
  {
   "cell_type": "code",
   "execution_count": 83,
   "metadata": {},
   "outputs": [
    {
     "output_type": "execute_result",
     "data": {
      "text/plain": "[tensor([[-23., -11.,  23.,  11.],\n         [-28., -14.,  28.,  14.],\n         [-35., -18.,  35.,  18.],\n         ...,\n         [510., 464., 600., 646.],\n         [498., 441., 612., 669.],\n         [483., 411., 627., 699.]]),\n tensor([[-23., -11.,  23.,  11.],\n         [-28., -14.,  28.,  14.],\n         [-35., -18.,  35.,  18.],\n         ...,\n         [510., 464., 600., 646.],\n         [498., 441., 612., 669.],\n         [483., 411., 627., 699.]]),\n tensor([[-23., -11.,  23.,  11.],\n         [-28., -14.,  28.,  14.],\n         [-35., -18.,  35.,  18.],\n         ...,\n         [510., 464., 600., 646.],\n         [498., 441., 612., 669.],\n         [483., 411., 627., 699.]])]"
     },
     "metadata": {},
     "execution_count": 83
    }
   ],
   "source": [
    "out"
   ]
  },
  {
   "cell_type": "code",
   "execution_count": 84,
   "metadata": {},
   "outputs": [],
   "source": [
    "from anchors import AnchorGenerator"
   ]
  },
  {
   "cell_type": "code",
   "execution_count": 85,
   "metadata": {},
   "outputs": [
    {
     "output_type": "execute_result",
     "data": {
      "text/plain": "3"
     },
     "metadata": {},
     "execution_count": 85
    }
   ],
   "source": [
    "t1 = torch.ones_like(outputs[m1.layer2])\n",
    "t2 = torch.ones_like(outputs[m1.layer3])\n",
    "t3 = torch.ones_like(outputs[m1.layer4])\n",
    "feature_maps = [t1, t2, t2]\n",
    "ag_2 = AnchorGenerator()\n",
    "out = ag_2(feature_maps)\n",
    "len(out)"
   ]
  },
  {
   "cell_type": "code",
   "execution_count": 86,
   "metadata": {},
   "outputs": [
    {
     "output_type": "execute_result",
     "data": {
      "text/plain": "[tensor([[-22.6274, -11.3137,  22.6274,  11.3137],\n         [-16.0000, -16.0000,  16.0000,  16.0000],\n         [-11.3137, -22.6274,  11.3137,  22.6274],\n         ...,\n         [556.0812, 574.0406, 627.9188, 609.9594],\n         [566.6016, 566.6016, 617.3984, 617.3984],\n         [574.0406, 556.0812, 609.9594, 627.9188]]),\n tensor([[-45.2548, -22.6274,  45.2548,  22.6274],\n         [-32.0000, -32.0000,  32.0000,  32.0000],\n         [-22.6274, -45.2548,  22.6274,  45.2548],\n         ...,\n         [520.1624, 556.0812, 663.8376, 627.9188],\n         [541.2032, 541.2032, 642.7968, 642.7968],\n         [556.0812, 520.1624, 627.9188, 663.8376]]),\n tensor([[ -90.5097,  -45.2548,   90.5097,   45.2548],\n         [ -64.0000,  -64.0000,   64.0000,   64.0000],\n         [ -45.2548,  -90.5097,   45.2548,   90.5097],\n         ...,\n         [1040.3248, 1112.1625, 1327.6752, 1255.8375],\n         [1082.4064, 1082.4064, 1285.5936, 1285.5936],\n         [1112.1625, 1040.3248, 1255.8375, 1327.6752]])]"
     },
     "metadata": {},
     "execution_count": 86
    }
   ],
   "source": [
    "out"
   ]
  },
  {
   "cell_type": "code",
   "execution_count": 90,
   "metadata": {},
   "outputs": [
    {
     "output_type": "execute_result",
     "data": {
      "text/plain": "([9, 9, 9, 9, 9], [9, 9, 9, 9, 9], device(type='cpu'))"
     },
     "metadata": {},
     "execution_count": 90
    }
   ],
   "source": [
    "ag_2.num_anchors, ag_2.num_cell_anchors, ag_2.device"
   ]
  },
  {
   "cell_type": "code",
   "execution_count": 89,
   "metadata": {},
   "outputs": [
    {
     "output_type": "execute_result",
     "data": {
      "text/plain": "[9, 9, 9, 9, 9]"
     },
     "metadata": {},
     "execution_count": 89
    }
   ],
   "source": [
    "ag.num_anchors_per_location()"
   ]
  },
  {
   "cell_type": "code",
   "execution_count": 97,
   "metadata": {},
   "outputs": [
    {
     "output_type": "execute_result",
     "data": {
      "text/plain": "[tensor([[-22.6274, -11.3137,  22.6274,  11.3137],\n         [-16.0000, -16.0000,  16.0000,  16.0000],\n         [-11.3137, -22.6274,  11.3137,  22.6274],\n         [-28.5088, -14.2544,  28.5088,  14.2544],\n         [-20.1587, -20.1587,  20.1587,  20.1587],\n         [-14.2544, -28.5088,  14.2544,  28.5088],\n         [-35.9188, -17.9594,  35.9188,  17.9594],\n         [-25.3984, -25.3984,  25.3984,  25.3984],\n         [-17.9594, -35.9188,  17.9594,  35.9188]]),\n tensor([[-45.2548, -22.6274,  45.2548,  22.6274],\n         [-32.0000, -32.0000,  32.0000,  32.0000],\n         [-22.6274, -45.2548,  22.6274,  45.2548],\n         [-57.0175, -28.5088,  57.0175,  28.5088],\n         [-40.3175, -40.3175,  40.3175,  40.3175],\n         [-28.5088, -57.0175,  28.5088,  57.0175],\n         [-71.8376, -35.9188,  71.8376,  35.9188],\n         [-50.7968, -50.7968,  50.7968,  50.7968],\n         [-35.9188, -71.8376,  35.9188,  71.8376]]),\n tensor([[ -90.5097,  -45.2548,   90.5097,   45.2548],\n         [ -64.0000,  -64.0000,   64.0000,   64.0000],\n         [ -45.2548,  -90.5097,   45.2548,   90.5097],\n         [-114.0350,  -57.0175,  114.0350,   57.0175],\n         [ -80.6349,  -80.6349,   80.6349,   80.6349],\n         [ -57.0175, -114.0350,   57.0175,  114.0350],\n         [-143.6751,  -71.8376,  143.6751,   71.8376],\n         [-101.5937, -101.5937,  101.5937,  101.5937],\n         [ -71.8376, -143.6751,   71.8376,  143.6751]]),\n tensor([[-181.0193,  -90.5097,  181.0193,   90.5097],\n         [-128.0000, -128.0000,  128.0000,  128.0000],\n         [ -90.5097, -181.0193,   90.5097,  181.0193],\n         [-228.0701, -114.0350,  228.0701,  114.0350],\n         [-161.2699, -161.2699,  161.2699,  161.2699],\n         [-114.0350, -228.0701,  114.0350,  228.0701],\n         [-287.3503, -143.6751,  287.3503,  143.6751],\n         [-203.1873, -203.1873,  203.1873,  203.1873],\n         [-143.6751, -287.3503,  143.6751,  287.3503]]),\n tensor([[-362.0387, -181.0193,  362.0387,  181.0193],\n         [-256.0000, -256.0000,  256.0000,  256.0000],\n         [-181.0193, -362.0387,  181.0193,  362.0387],\n         [-456.1401, -228.0701,  456.1401,  228.0701],\n         [-322.5398, -322.5398,  322.5398,  322.5398],\n         [-228.0701, -456.1401,  228.0701,  456.1401],\n         [-574.7006, -287.3503,  574.7006,  287.3503],\n         [-406.3747, -406.3747,  406.3747,  406.3747],\n         [-287.3503, -574.7006,  287.3503,  574.7006]])]"
     },
     "metadata": {},
     "execution_count": 97
    }
   ],
   "source": [
    "[x[1] for x in ag_2.cell_anchors.named_buffers()]"
   ]
  },
  {
   "cell_type": "code",
   "execution_count": 95,
   "metadata": {},
   "outputs": [
    {
     "output_type": "execute_result",
     "data": {
      "text/plain": "<generator object Module.named_buffers at 0x7fcf8c3793d0>"
     },
     "metadata": {},
     "execution_count": 95
    }
   ],
   "source": [
    "ag_2.cell_anchors.named_buffers()"
   ]
  },
  {
   "cell_type": "code",
   "execution_count": null,
   "metadata": {},
   "outputs": [],
   "source": []
  }
 ]
}