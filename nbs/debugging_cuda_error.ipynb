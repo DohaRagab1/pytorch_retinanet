{
  "nbformat": 4,
  "nbformat_minor": 0,
  "metadata": {
    "colab": {
      "name": "debugging_cuda_error.ipynb",
      "provenance": [],
      "collapsed_sections": [],
      "mount_file_id": "1a9VtI5w8QJ5x7TuRaxQugMbrmrNVnoMr",
      "authorship_tag": "ABX9TyPgSa9EndBARBKMO02ZmqQ1",
      "include_colab_link": true
    },
    "kernelspec": {
      "name": "python3",
      "display_name": "Python 3"
    },
    "accelerator": "GPU"
  },
  "cells": [
    {
      "cell_type": "markdown",
      "metadata": {
        "id": "view-in-github",
        "colab_type": "text"
      },
      "source": [
        "<a href=\"https://colab.research.google.com/github/benihime91/pytorch_retinanet/blob/master/nbs/debugging_cuda_error.ipynb\" target=\"_parent\"><img src=\"https://colab.research.google.com/assets/colab-badge.svg\" alt=\"Open In Colab\"/></a>"
      ]
    },
    {
      "cell_type": "code",
      "metadata": {
        "id": "PfOmCUuophol",
        "colab_type": "code",
        "colab": {
          "base_uri": "https://localhost:8080/",
          "height": 170
        },
        "outputId": "d35fcb53-f6af-4ffb-e9f4-f0f536c8460b"
      },
      "source": [
        "! git clone https://github.com/benihime91/pytorch_retinanet.git\n",
        "! echo \">> Repo Cloned\"\n",
        "! tar zxf /content/drive/My\\ Drive/Data/oxford-iiit-pet.tgz -C /content/ \n",
        "! echo \">> Data Unziped\""
      ],
      "execution_count": 1,
      "outputs": [
        {
          "output_type": "stream",
          "text": [
            "Cloning into 'pytorch_retinanet'...\n",
            "remote: Enumerating objects: 123, done.\u001b[K\n",
            "remote: Counting objects:   0% (1/123)\u001b[K\rremote: Counting objects:   1% (2/123)\u001b[K\rremote: Counting objects:   2% (3/123)\u001b[K\rremote: Counting objects:   3% (4/123)\u001b[K\rremote: Counting objects:   4% (5/123)\u001b[K\rremote: Counting objects:   5% (7/123)\u001b[K\rremote: Counting objects:   6% (8/123)\u001b[K\rremote: Counting objects:   7% (9/123)\u001b[K\rremote: Counting objects:   8% (10/123)\u001b[K\rremote: Counting objects:   9% (12/123)\u001b[K\rremote: Counting objects:  10% (13/123)\u001b[K\rremote: Counting objects:  11% (14/123)\u001b[K\rremote: Counting objects:  12% (15/123)\u001b[K\rremote: Counting objects:  13% (16/123)\u001b[K\rremote: Counting objects:  14% (18/123)\u001b[K\rremote: Counting objects:  15% (19/123)\u001b[K\rremote: Counting objects:  16% (20/123)\u001b[K\rremote: Counting objects:  17% (21/123)\u001b[K\rremote: Counting objects:  18% (23/123)\u001b[K\rremote: Counting objects:  19% (24/123)\u001b[K\rremote: Counting objects:  20% (25/123)\u001b[K\rremote: Counting objects:  21% (26/123)\u001b[K\rremote: Counting objects:  22% (28/123)\u001b[K\rremote: Counting objects:  23% (29/123)\u001b[K\rremote: Counting objects:  24% (30/123)\u001b[K\rremote: Counting objects:  25% (31/123)\u001b[K\rremote: Counting objects:  26% (32/123)\u001b[K\rremote: Counting objects:  27% (34/123)\u001b[K\rremote: Counting objects:  28% (35/123)\u001b[K\rremote: Counting objects:  29% (36/123)\u001b[K\rremote: Counting objects:  30% (37/123)\u001b[K\rremote: Counting objects:  31% (39/123)\u001b[K\rremote: Counting objects:  32% (40/123)\u001b[K\rremote: Counting objects:  33% (41/123)\u001b[K\rremote: Counting objects:  34% (42/123)\u001b[K\rremote: Counting objects:  35% (44/123)\u001b[K\rremote: Counting objects:  36% (45/123)\u001b[K\rremote: Counting objects:  37% (46/123)\u001b[K\rremote: Counting objects:  38% (47/123)\u001b[K\rremote: Counting objects:  39% (48/123)\u001b[K\rremote: Counting objects:  40% (50/123)\u001b[K\rremote: Counting objects:  41% (51/123)\u001b[K\rremote: Counting objects:  42% (52/123)\u001b[K\rremote: Counting objects:  43% (53/123)\u001b[K\rremote: Counting objects:  44% (55/123)\u001b[K\rremote: Counting objects:  45% (56/123)\u001b[K\rremote: Counting objects:  46% (57/123)\u001b[K\rremote: Counting objects:  47% (58/123)\u001b[K\rremote: Counting objects:  48% (60/123)\u001b[K\rremote: Counting objects:  49% (61/123)\u001b[K\rremote: Counting objects:  50% (62/123)\u001b[K\rremote: Counting objects:  51% (63/123)\u001b[K\rremote: Counting objects:  52% (64/123)\u001b[K\rremote: Counting objects:  53% (66/123)\u001b[K\rremote: Counting objects:  54% (67/123)\u001b[K\rremote: Counting objects:  55% (68/123)\u001b[K\rremote: Counting objects:  56% (69/123)\u001b[K\rremote: Counting objects:  57% (71/123)\u001b[K\rremote: Counting objects:  58% (72/123)\u001b[K\rremote: Counting objects:  59% (73/123)\u001b[K\rremote: Counting objects:  60% (74/123)\u001b[K\rremote: Counting objects:  61% (76/123)\u001b[K\rremote: Counting objects:  62% (77/123)\u001b[K\rremote: Counting objects:  63% (78/123)\u001b[K\rremote: Counting objects:  64% (79/123)\u001b[K\rremote: Counting objects:  65% (80/123)\u001b[K\rremote: Counting objects:  66% (82/123)\u001b[K\rremote: Counting objects:  67% (83/123)\u001b[K\rremote: Counting objects:  68% (84/123)\u001b[K\rremote: Counting objects:  69% (85/123)\u001b[K\rremote: Counting objects:  70% (87/123)\u001b[K\rremote: Counting objects:  71% (88/123)\u001b[K\rremote: Counting objects:  72% (89/123)\u001b[K\rremote: Counting objects:  73% (90/123)\u001b[K\rremote: Counting objects:  74% (92/123)\u001b[K\rremote: Counting objects:  75% (93/123)\u001b[K\rremote: Counting objects:  76% (94/123)\u001b[K\rremote: Counting objects:  77% (95/123)\u001b[K\rremote: Counting objects:  78% (96/123)\u001b[K\rremote: Counting objects:  79% (98/123)\u001b[K\rremote: Counting objects:  80% (99/123)\u001b[K\rremote: Counting objects:  81% (100/123)\u001b[K\rremote: Counting objects:  82% (101/123)\u001b[K\rremote: Counting objects:  83% (103/123)\u001b[K\rremote: Counting objects:  84% (104/123)\u001b[K\rremote: Counting objects:  85% (105/123)\u001b[K\rremote: Counting objects:  86% (106/123)\u001b[K\rremote: Counting objects:  87% (108/123)\u001b[K\rremote: Counting objects:  88% (109/123)\u001b[K\rremote: Counting objects:  89% (110/123)\u001b[K\rremote: Counting objects:  90% (111/123)\u001b[K\rremote: Counting objects:  91% (112/123)\u001b[K\rremote: Counting objects:  92% (114/123)\u001b[K\rremote: Counting objects:  93% (115/123)\u001b[K\rremote: Counting objects:  94% (116/123)\u001b[K\rremote: Counting objects:  95% (117/123)\u001b[K\rremote: Counting objects:  96% (119/123)\u001b[K\rremote: Counting objects:  97% (120/123)\u001b[K\rremote: Counting objects:  98% (121/123)\u001b[K\rremote: Counting objects:  99% (122/123)\u001b[K\rremote: Counting objects: 100% (123/123)\u001b[K\rremote: Counting objects: 100% (123/123), done.\u001b[K\n",
            "remote: Compressing objects: 100% (86/86), done.\u001b[K\n",
            "remote: Total 902 (delta 84), reused 71 (delta 37), pack-reused 779\u001b[K\n",
            "Receiving objects: 100% (902/902), 4.29 MiB | 6.79 MiB/s, done.\n",
            "Resolving deltas: 100% (603/603), done.\n",
            ">> Repo Cloned\n",
            ">> Data Unziped\n"
          ],
          "name": "stdout"
        }
      ]
    },
    {
      "cell_type": "code",
      "metadata": {
        "id": "4FMDxcLzKWLj",
        "colab_type": "code",
        "colab": {
          "base_uri": "https://localhost:8080/",
          "height": 51
        },
        "outputId": "c5d6fdb3-43dc-40f5-fe62-be67cf7b2e5e"
      },
      "source": [
        "%%bash\n",
        "pip install -U pytorch-lightning --quiet \n",
        "pip install -U git+https://github.com/albumentations-team/albumentations --quiet\n",
        "pip install -U bounding_box --quiet\n",
        "echo \">> Libraries successfully installed ! Proceed !!!\""
      ],
      "execution_count": 3,
      "outputs": [
        {
          "output_type": "stream",
          "text": [
            ">> Libraries successfully installed ! Proceed !!!\n"
          ],
          "name": "stdout"
        },
        {
          "output_type": "stream",
          "text": [
            "ERROR: tensorflow 2.3.0 has requirement tensorboard<3,>=2.3.0, but you'll have tensorboard 2.2.0 which is incompatible.\n"
          ],
          "name": "stderr"
        }
      ]
    },
    {
      "cell_type": "code",
      "metadata": {
        "id": "UuoCZz-a8J9W",
        "colab_type": "code",
        "colab": {}
      },
      "source": [
        "import os\n",
        "os.chdir('/content/pytorch_retinanet')"
      ],
      "execution_count": 4,
      "outputs": []
    },
    {
      "cell_type": "code",
      "metadata": {
        "id": "EWyEybEFdNj6",
        "colab_type": "code",
        "colab": {
          "base_uri": "https://localhost:8080/",
          "height": 1000
        },
        "outputId": "b248d92a-eeba-443b-f15a-71c8f78ba10a"
      },
      "source": [
        "! python /content/pytorch_retinanet/test_script.py --epochs 26 --lr 1e-04 --wd 1e-04"
      ],
      "execution_count": null,
      "outputs": [
        {
          "output_type": "stream",
          "text": [
            "2020-08-24 15:26:18.285066: I tensorflow/stream_executor/platform/default/dso_loader.cc:48] Successfully opened dynamic library libcudart.so.10.1\n",
            "------------------------\n",
            "[INFO] ARGUMENTS: >>\n",
            "[INFO] BACKBONE: resnet18\n",
            "[INFO] EPOCHS: 26\n",
            "[INFO] LEARNING_RATE: 0.0001\n",
            "[INFO] WEIGHT_DECAY: 0.0001\n",
            "[INFO] MOMENTUM: 0.9\n",
            "[INFO] PRECISION: 16\n",
            "------------------------\n",
            "GPU available: True, used: True\n",
            "TPU available: False, using: 0 TPU cores\n",
            "CUDA_VISIBLE_DEVICES: [0]\n",
            "Using native 16bit precision.\n",
            "/usr/local/lib/python3.6/dist-packages/pytorch_lightning/utilities/distributed.py:37: UserWarning: Could not log computational graph since the `model.example_input_array` attribute is not set or `input_array` was not given\n",
            "  warnings.warn(*args, **kwargs)\n",
            "\n",
            "  | Name  | Type      | Params\n",
            "------------------------------------\n",
            "0 | model | Retinanet | 20 M  \n",
            "creating index...\n",
            "index created!\n",
            "Epoch 0:   0% 0/385 [00:00<?, ?it/s] /content/pytorch_retinanet/src/losses.py:34: UserWarning: This overload of nonzero is deprecated:\n",
            "\tnonzero(Tensor input, *, Tensor out)\n",
            "Consider using one of the following signatures instead:\n",
            "\tnonzero(Tensor input, *, bool as_tuple) (Triggered internally at  /pytorch/torch/csrc/utils/python_arg_parser.cpp:766.)\n",
            "  i = torch.min(torch.nonzero(clas_tgt-bg_clas))\n",
            "Epoch 0:  90% 346/385 [11:29<01:17,  1.99s/it, loss=2.871, v_num=1, classification_loss=1.39, regression_loss=0]    \n",
            "Validating: 0it [00:00, ?it/s]\u001b[A\n",
            "Epoch 0:  90% 347/385 [11:30<01:15,  1.99s/it, loss=2.871, v_num=1, classification_loss=1.39, regression_loss=0]\n",
            "Epoch 0:  90% 348/385 [11:32<01:13,  1.99s/it, loss=2.871, v_num=1, classification_loss=1.39, regression_loss=0]\n",
            "Epoch 0:  91% 349/385 [11:34<01:11,  1.99s/it, loss=2.871, v_num=1, classification_loss=1.39, regression_loss=0]\n",
            "Epoch 0:  91% 350/385 [11:35<01:09,  1.99s/it, loss=2.871, v_num=1, classification_loss=1.39, regression_loss=0]\n",
            "Epoch 0:  91% 351/385 [11:37<01:07,  1.99s/it, loss=2.871, v_num=1, classification_loss=1.39, regression_loss=0]\n",
            "Epoch 0:  91% 352/385 [11:38<01:05,  1.99s/it, loss=2.871, v_num=1, classification_loss=1.39, regression_loss=0]\n",
            "Epoch 0:  92% 353/385 [11:40<01:03,  1.98s/it, loss=2.871, v_num=1, classification_loss=1.39, regression_loss=0]\n",
            "Epoch 0:  92% 354/385 [11:41<01:01,  1.98s/it, loss=2.871, v_num=1, classification_loss=1.39, regression_loss=0]\n",
            "Epoch 0:  92% 355/385 [11:43<00:59,  1.98s/it, loss=2.871, v_num=1, classification_loss=1.39, regression_loss=0]\n",
            "Epoch 0:  92% 356/385 [11:44<00:57,  1.98s/it, loss=2.871, v_num=1, classification_loss=1.39, regression_loss=0]\n",
            "Epoch 0:  93% 357/385 [11:46<00:55,  1.98s/it, loss=2.871, v_num=1, classification_loss=1.39, regression_loss=0]\n",
            "Epoch 0:  93% 358/385 [11:49<00:53,  1.98s/it, loss=2.871, v_num=1, classification_loss=1.39, regression_loss=0]\n",
            "Epoch 0:  93% 359/385 [11:50<00:51,  1.98s/it, loss=2.871, v_num=1, classification_loss=1.39, regression_loss=0]\n",
            "Epoch 0:  94% 360/385 [11:52<00:49,  1.98s/it, loss=2.871, v_num=1, classification_loss=1.39, regression_loss=0]\n",
            "Epoch 0:  94% 361/385 [11:53<00:47,  1.98s/it, loss=2.871, v_num=1, classification_loss=1.39, regression_loss=0]\n",
            "Epoch 0:  94% 362/385 [11:55<00:45,  1.98s/it, loss=2.871, v_num=1, classification_loss=1.39, regression_loss=0]\n",
            "Epoch 0:  94% 363/385 [11:56<00:43,  1.97s/it, loss=2.871, v_num=1, classification_loss=1.39, regression_loss=0]\n",
            "Epoch 0:  95% 364/385 [11:58<00:41,  1.97s/it, loss=2.871, v_num=1, classification_loss=1.39, regression_loss=0]\n",
            "Epoch 0:  95% 365/385 [11:59<00:39,  1.97s/it, loss=2.871, v_num=1, classification_loss=1.39, regression_loss=0]\n",
            "Epoch 0:  95% 366/385 [12:01<00:37,  1.97s/it, loss=2.871, v_num=1, classification_loss=1.39, regression_loss=0]\n",
            "Epoch 0:  95% 367/385 [12:03<00:35,  1.97s/it, loss=2.871, v_num=1, classification_loss=1.39, regression_loss=0]\n",
            "Epoch 0:  96% 368/385 [12:04<00:33,  1.97s/it, loss=2.871, v_num=1, classification_loss=1.39, regression_loss=0]\n",
            "Epoch 0:  96% 369/385 [12:06<00:31,  1.97s/it, loss=2.871, v_num=1, classification_loss=1.39, regression_loss=0]\n",
            "Epoch 0:  96% 370/385 [12:07<00:29,  1.97s/it, loss=2.871, v_num=1, classification_loss=1.39, regression_loss=0]\n",
            "Epoch 0:  96% 371/385 [12:09<00:27,  1.97s/it, loss=2.871, v_num=1, classification_loss=1.39, regression_loss=0]\n",
            "Epoch 0:  97% 372/385 [12:11<00:25,  1.97s/it, loss=2.871, v_num=1, classification_loss=1.39, regression_loss=0]\n",
            "Epoch 0:  97% 373/385 [12:12<00:23,  1.96s/it, loss=2.871, v_num=1, classification_loss=1.39, regression_loss=0]\n",
            "Epoch 0:  97% 374/385 [12:14<00:21,  1.96s/it, loss=2.871, v_num=1, classification_loss=1.39, regression_loss=0]\n",
            "Epoch 0:  97% 375/385 [12:16<00:19,  1.96s/it, loss=2.871, v_num=1, classification_loss=1.39, regression_loss=0]\n",
            "Epoch 0:  98% 376/385 [12:17<00:17,  1.96s/it, loss=2.871, v_num=1, classification_loss=1.39, regression_loss=0]\n",
            "Epoch 0:  98% 377/385 [12:19<00:15,  1.96s/it, loss=2.871, v_num=1, classification_loss=1.39, regression_loss=0]\n",
            "Epoch 0:  98% 378/385 [12:20<00:13,  1.96s/it, loss=2.871, v_num=1, classification_loss=1.39, regression_loss=0]\n",
            "Epoch 0:  98% 379/385 [12:22<00:11,  1.96s/it, loss=2.871, v_num=1, classification_loss=1.39, regression_loss=0]\n",
            "Epoch 0:  99% 380/385 [12:24<00:09,  1.96s/it, loss=2.871, v_num=1, classification_loss=1.39, regression_loss=0]\n",
            "Epoch 0:  99% 381/385 [12:25<00:07,  1.96s/it, loss=2.871, v_num=1, classification_loss=1.39, regression_loss=0]\n",
            "Epoch 0:  99% 382/385 [12:27<00:05,  1.96s/it, loss=2.871, v_num=1, classification_loss=1.39, regression_loss=0]\n",
            "Epoch 0:  99% 383/385 [12:29<00:03,  1.96s/it, loss=2.871, v_num=1, classification_loss=1.39, regression_loss=0]\n",
            "Epoch 0: 100% 384/385 [12:30<00:01,  1.95s/it, loss=2.871, v_num=1, classification_loss=1.39, regression_loss=0]\n",
            "Epoch 0: 100% 385/385 [12:31<00:00,  1.95s/it, loss=2.871, v_num=1, classification_loss=1.39, regression_loss=0]Running per image evaluation...\n",
            "Evaluate annotation type *bbox*\n",
            "DONE (t=0.00s).\n",
            "Accumulating evaluation results...\n",
            "DONE (t=0.01s).\n",
            "IoU metric: bbox\n",
            " Average Precision  (AP) @[ IoU=0.50:0.95 | area=   all | maxDets=100 ] = 0.000\n",
            " Average Precision  (AP) @[ IoU=0.50      | area=   all | maxDets=100 ] = 0.000\n",
            " Average Precision  (AP) @[ IoU=0.75      | area=   all | maxDets=100 ] = 0.000\n",
            " Average Precision  (AP) @[ IoU=0.50:0.95 | area= small | maxDets=100 ] = -1.000\n",
            " Average Precision  (AP) @[ IoU=0.50:0.95 | area=medium | maxDets=100 ] = 0.000\n",
            " Average Precision  (AP) @[ IoU=0.50:0.95 | area= large | maxDets=100 ] = 0.000\n",
            " Average Recall     (AR) @[ IoU=0.50:0.95 | area=   all | maxDets=  1 ] = 0.000\n",
            " Average Recall     (AR) @[ IoU=0.50:0.95 | area=   all | maxDets= 10 ] = 0.000\n",
            " Average Recall     (AR) @[ IoU=0.50:0.95 | area=   all | maxDets=100 ] = 0.000\n",
            " Average Recall     (AR) @[ IoU=0.50:0.95 | area= small | maxDets=100 ] = -1.000\n",
            " Average Recall     (AR) @[ IoU=0.50:0.95 | area=medium | maxDets=100 ] = 0.000\n",
            " Average Recall     (AR) @[ IoU=0.50:0.95 | area= large | maxDets=100 ] = 0.000\n",
            "Epoch 0: 100% 385/385 [12:32<00:00,  1.95s/it, loss=2.871, v_num=1, classification_loss=1.39, regression_loss=0, bbox_IOU=0]\n",
            "Epoch 1:  90% 346/385 [11:24<01:17,  1.98s/it, loss=2.897, v_num=1, classification_loss=2.16, regression_loss=0.418, bbox_IOU=0]\n",
            "Validating: 0it [00:00, ?it/s]\u001b[A\n",
            "Epoch 1:  90% 347/385 [11:26<01:15,  1.98s/it, loss=2.897, v_num=1, classification_loss=2.16, regression_loss=0.418, bbox_IOU=0]\n",
            "Epoch 1:  90% 348/385 [11:27<01:13,  1.98s/it, loss=2.897, v_num=1, classification_loss=2.16, regression_loss=0.418, bbox_IOU=0]\n",
            "Epoch 1:  91% 349/385 [11:29<01:11,  1.98s/it, loss=2.897, v_num=1, classification_loss=2.16, regression_loss=0.418, bbox_IOU=0]\n",
            "Epoch 1:  91% 350/385 [11:31<01:09,  1.97s/it, loss=2.897, v_num=1, classification_loss=2.16, regression_loss=0.418, bbox_IOU=0]\n",
            "Epoch 1:  91% 351/385 [11:32<01:07,  1.97s/it, loss=2.897, v_num=1, classification_loss=2.16, regression_loss=0.418, bbox_IOU=0]\n",
            "Epoch 1:  91% 352/385 [11:34<01:05,  1.97s/it, loss=2.897, v_num=1, classification_loss=2.16, regression_loss=0.418, bbox_IOU=0]\n",
            "Epoch 1:  92% 353/385 [11:35<01:03,  1.97s/it, loss=2.897, v_num=1, classification_loss=2.16, regression_loss=0.418, bbox_IOU=0]\n",
            "Epoch 1:  92% 354/385 [11:37<01:01,  1.97s/it, loss=2.897, v_num=1, classification_loss=2.16, regression_loss=0.418, bbox_IOU=0]\n",
            "Epoch 1:  92% 355/385 [11:38<00:59,  1.97s/it, loss=2.897, v_num=1, classification_loss=2.16, regression_loss=0.418, bbox_IOU=0]\n",
            "Epoch 1:  92% 356/385 [11:40<00:57,  1.97s/it, loss=2.897, v_num=1, classification_loss=2.16, regression_loss=0.418, bbox_IOU=0]\n",
            "Epoch 1:  93% 357/385 [11:42<00:55,  1.97s/it, loss=2.897, v_num=1, classification_loss=2.16, regression_loss=0.418, bbox_IOU=0]\n",
            "Epoch 1:  93% 358/385 [11:43<00:53,  1.97s/it, loss=2.897, v_num=1, classification_loss=2.16, regression_loss=0.418, bbox_IOU=0]\n",
            "Epoch 1:  93% 359/385 [11:45<00:51,  1.96s/it, loss=2.897, v_num=1, classification_loss=2.16, regression_loss=0.418, bbox_IOU=0]\n",
            "Epoch 1:  94% 360/385 [11:46<00:49,  1.96s/it, loss=2.897, v_num=1, classification_loss=2.16, regression_loss=0.418, bbox_IOU=0]\n",
            "Epoch 1:  94% 361/385 [11:48<00:47,  1.96s/it, loss=2.897, v_num=1, classification_loss=2.16, regression_loss=0.418, bbox_IOU=0]\n",
            "Epoch 1:  94% 362/385 [11:49<00:45,  1.96s/it, loss=2.897, v_num=1, classification_loss=2.16, regression_loss=0.418, bbox_IOU=0]\n",
            "Epoch 1:  94% 363/385 [11:51<00:43,  1.96s/it, loss=2.897, v_num=1, classification_loss=2.16, regression_loss=0.418, bbox_IOU=0]\n",
            "Epoch 1:  95% 364/385 [11:53<00:41,  1.96s/it, loss=2.897, v_num=1, classification_loss=2.16, regression_loss=0.418, bbox_IOU=0]\n",
            "Epoch 1:  95% 365/385 [11:54<00:39,  1.96s/it, loss=2.897, v_num=1, classification_loss=2.16, regression_loss=0.418, bbox_IOU=0]\n",
            "Epoch 1:  95% 366/385 [11:56<00:37,  1.96s/it, loss=2.897, v_num=1, classification_loss=2.16, regression_loss=0.418, bbox_IOU=0]\n",
            "Epoch 1:  95% 367/385 [11:57<00:35,  1.96s/it, loss=2.897, v_num=1, classification_loss=2.16, regression_loss=0.418, bbox_IOU=0]\n",
            "Epoch 1:  96% 368/385 [11:59<00:33,  1.95s/it, loss=2.897, v_num=1, classification_loss=2.16, regression_loss=0.418, bbox_IOU=0]\n",
            "Epoch 1:  96% 369/385 [12:00<00:31,  1.95s/it, loss=2.897, v_num=1, classification_loss=2.16, regression_loss=0.418, bbox_IOU=0]\n",
            "Epoch 1:  96% 370/385 [12:02<00:29,  1.95s/it, loss=2.897, v_num=1, classification_loss=2.16, regression_loss=0.418, bbox_IOU=0]\n",
            "Epoch 1:  96% 371/385 [12:03<00:27,  1.95s/it, loss=2.897, v_num=1, classification_loss=2.16, regression_loss=0.418, bbox_IOU=0]\n",
            "Epoch 1:  97% 372/385 [12:05<00:25,  1.95s/it, loss=2.897, v_num=1, classification_loss=2.16, regression_loss=0.418, bbox_IOU=0]\n",
            "Epoch 1:  97% 373/385 [12:07<00:23,  1.95s/it, loss=2.897, v_num=1, classification_loss=2.16, regression_loss=0.418, bbox_IOU=0]\n",
            "Epoch 1:  97% 374/385 [12:09<00:21,  1.95s/it, loss=2.897, v_num=1, classification_loss=2.16, regression_loss=0.418, bbox_IOU=0]\n",
            "Epoch 1:  97% 375/385 [12:10<00:19,  1.95s/it, loss=2.897, v_num=1, classification_loss=2.16, regression_loss=0.418, bbox_IOU=0]\n",
            "Epoch 1:  98% 376/385 [12:12<00:17,  1.95s/it, loss=2.897, v_num=1, classification_loss=2.16, regression_loss=0.418, bbox_IOU=0]\n",
            "Epoch 1:  98% 377/385 [12:13<00:15,  1.95s/it, loss=2.897, v_num=1, classification_loss=2.16, regression_loss=0.418, bbox_IOU=0]\n",
            "Epoch 1:  98% 378/385 [12:15<00:13,  1.95s/it, loss=2.897, v_num=1, classification_loss=2.16, regression_loss=0.418, bbox_IOU=0]\n",
            "Epoch 1:  98% 379/385 [12:17<00:11,  1.94s/it, loss=2.897, v_num=1, classification_loss=2.16, regression_loss=0.418, bbox_IOU=0]\n",
            "Epoch 1:  99% 380/385 [12:18<00:09,  1.94s/it, loss=2.897, v_num=1, classification_loss=2.16, regression_loss=0.418, bbox_IOU=0]\n",
            "Epoch 1:  99% 381/385 [12:20<00:07,  1.94s/it, loss=2.897, v_num=1, classification_loss=2.16, regression_loss=0.418, bbox_IOU=0]\n",
            "Epoch 1:  99% 382/385 [12:21<00:05,  1.94s/it, loss=2.897, v_num=1, classification_loss=2.16, regression_loss=0.418, bbox_IOU=0]\n",
            "Epoch 1:  99% 383/385 [12:23<00:03,  1.94s/it, loss=2.897, v_num=1, classification_loss=2.16, regression_loss=0.418, bbox_IOU=0]\n",
            "Epoch 1: 100% 384/385 [12:25<00:01,  1.94s/it, loss=2.897, v_num=1, classification_loss=2.16, regression_loss=0.418, bbox_IOU=0]\n",
            "Epoch 1: 100% 385/385 [12:26<00:00,  1.94s/it, loss=2.897, v_num=1, classification_loss=2.16, regression_loss=0.418, bbox_IOU=0]Running per image evaluation...\n",
            "Evaluate annotation type *bbox*\n",
            "DONE (t=0.00s).\n",
            "Accumulating evaluation results...\n",
            "DONE (t=0.01s).\n",
            "IoU metric: bbox\n",
            " Average Precision  (AP) @[ IoU=0.50:0.95 | area=   all | maxDets=100 ] = 0.000\n",
            " Average Precision  (AP) @[ IoU=0.50      | area=   all | maxDets=100 ] = 0.000\n",
            " Average Precision  (AP) @[ IoU=0.75      | area=   all | maxDets=100 ] = 0.000\n",
            " Average Precision  (AP) @[ IoU=0.50:0.95 | area= small | maxDets=100 ] = -1.000\n",
            " Average Precision  (AP) @[ IoU=0.50:0.95 | area=medium | maxDets=100 ] = 0.000\n",
            " Average Precision  (AP) @[ IoU=0.50:0.95 | area= large | maxDets=100 ] = 0.000\n",
            " Average Recall     (AR) @[ IoU=0.50:0.95 | area=   all | maxDets=  1 ] = 0.000\n",
            " Average Recall     (AR) @[ IoU=0.50:0.95 | area=   all | maxDets= 10 ] = 0.000\n",
            " Average Recall     (AR) @[ IoU=0.50:0.95 | area=   all | maxDets=100 ] = 0.000\n",
            " Average Recall     (AR) @[ IoU=0.50:0.95 | area= small | maxDets=100 ] = -1.000\n",
            " Average Recall     (AR) @[ IoU=0.50:0.95 | area=medium | maxDets=100 ] = 0.000\n",
            " Average Recall     (AR) @[ IoU=0.50:0.95 | area= large | maxDets=100 ] = 0.000\n",
            "Epoch 1: 100% 385/385 [12:26<00:00,  1.94s/it, loss=2.897, v_num=1, classification_loss=2.16, regression_loss=0.418, bbox_IOU=0]\n",
            "Epoch 2:  90% 346/385 [11:22<01:16,  1.97s/it, loss=2.825, v_num=1, classification_loss=3.24, regression_loss=0.702, bbox_IOU=0]\n",
            "Validating: 0it [00:00, ?it/s]\u001b[A\n",
            "Epoch 2:  90% 347/385 [11:24<01:14,  1.97s/it, loss=2.825, v_num=1, classification_loss=3.24, regression_loss=0.702, bbox_IOU=0]\n",
            "Epoch 2:  90% 348/385 [11:25<01:12,  1.97s/it, loss=2.825, v_num=1, classification_loss=3.24, regression_loss=0.702, bbox_IOU=0]\n",
            "Epoch 2:  91% 349/385 [11:27<01:10,  1.97s/it, loss=2.825, v_num=1, classification_loss=3.24, regression_loss=0.702, bbox_IOU=0]\n",
            "Epoch 2:  91% 350/385 [11:28<01:08,  1.97s/it, loss=2.825, v_num=1, classification_loss=3.24, regression_loss=0.702, bbox_IOU=0]\n",
            "Epoch 2:  91% 351/385 [11:30<01:06,  1.97s/it, loss=2.825, v_num=1, classification_loss=3.24, regression_loss=0.702, bbox_IOU=0]\n",
            "Epoch 2:  91% 352/385 [11:31<01:04,  1.97s/it, loss=2.825, v_num=1, classification_loss=3.24, regression_loss=0.702, bbox_IOU=0]\n",
            "Epoch 2:  92% 353/385 [11:33<01:02,  1.96s/it, loss=2.825, v_num=1, classification_loss=3.24, regression_loss=0.702, bbox_IOU=0]\n",
            "Epoch 2:  92% 354/385 [11:34<01:00,  1.96s/it, loss=2.825, v_num=1, classification_loss=3.24, regression_loss=0.702, bbox_IOU=0]\n",
            "Epoch 2:  92% 355/385 [11:36<00:58,  1.96s/it, loss=2.825, v_num=1, classification_loss=3.24, regression_loss=0.702, bbox_IOU=0]\n",
            "Epoch 2:  92% 356/385 [11:38<00:56,  1.96s/it, loss=2.825, v_num=1, classification_loss=3.24, regression_loss=0.702, bbox_IOU=0]\n",
            "Epoch 2:  93% 357/385 [11:39<00:54,  1.96s/it, loss=2.825, v_num=1, classification_loss=3.24, regression_loss=0.702, bbox_IOU=0]\n",
            "Epoch 2:  93% 358/385 [11:41<00:52,  1.96s/it, loss=2.825, v_num=1, classification_loss=3.24, regression_loss=0.702, bbox_IOU=0]\n",
            "Epoch 2:  93% 359/385 [11:43<00:50,  1.96s/it, loss=2.825, v_num=1, classification_loss=3.24, regression_loss=0.702, bbox_IOU=0]\n",
            "Epoch 2:  94% 360/385 [11:44<00:48,  1.96s/it, loss=2.825, v_num=1, classification_loss=3.24, regression_loss=0.702, bbox_IOU=0]\n",
            "Epoch 2:  94% 361/385 [11:46<00:46,  1.96s/it, loss=2.825, v_num=1, classification_loss=3.24, regression_loss=0.702, bbox_IOU=0]\n",
            "Epoch 2:  94% 362/385 [11:47<00:44,  1.95s/it, loss=2.825, v_num=1, classification_loss=3.24, regression_loss=0.702, bbox_IOU=0]\n",
            "Epoch 2:  94% 363/385 [11:49<00:42,  1.95s/it, loss=2.825, v_num=1, classification_loss=3.24, regression_loss=0.702, bbox_IOU=0]\n",
            "Epoch 2:  95% 364/385 [11:50<00:41,  1.95s/it, loss=2.825, v_num=1, classification_loss=3.24, regression_loss=0.702, bbox_IOU=0]\n",
            "Epoch 2:  95% 365/385 [11:52<00:39,  1.95s/it, loss=2.825, v_num=1, classification_loss=3.24, regression_loss=0.702, bbox_IOU=0]\n",
            "Epoch 2:  95% 366/385 [11:53<00:37,  1.95s/it, loss=2.825, v_num=1, classification_loss=3.24, regression_loss=0.702, bbox_IOU=0]\n",
            "Epoch 2:  95% 367/385 [11:55<00:35,  1.95s/it, loss=2.825, v_num=1, classification_loss=3.24, regression_loss=0.702, bbox_IOU=0]\n",
            "Epoch 2:  96% 368/385 [11:56<00:33,  1.95s/it, loss=2.825, v_num=1, classification_loss=3.24, regression_loss=0.702, bbox_IOU=0]\n",
            "Epoch 2:  96% 369/385 [11:58<00:31,  1.95s/it, loss=2.825, v_num=1, classification_loss=3.24, regression_loss=0.702, bbox_IOU=0]\n",
            "Epoch 2:  96% 370/385 [12:00<00:29,  1.95s/it, loss=2.825, v_num=1, classification_loss=3.24, regression_loss=0.702, bbox_IOU=0]\n",
            "Epoch 2:  96% 371/385 [12:01<00:27,  1.95s/it, loss=2.825, v_num=1, classification_loss=3.24, regression_loss=0.702, bbox_IOU=0]\n",
            "Epoch 2:  97% 372/385 [12:03<00:25,  1.94s/it, loss=2.825, v_num=1, classification_loss=3.24, regression_loss=0.702, bbox_IOU=0]\n",
            "Epoch 2:  97% 373/385 [12:05<00:23,  1.94s/it, loss=2.825, v_num=1, classification_loss=3.24, regression_loss=0.702, bbox_IOU=0]\n",
            "Epoch 2:  97% 374/385 [12:06<00:21,  1.94s/it, loss=2.825, v_num=1, classification_loss=3.24, regression_loss=0.702, bbox_IOU=0]\n",
            "Epoch 2:  97% 375/385 [12:08<00:19,  1.94s/it, loss=2.825, v_num=1, classification_loss=3.24, regression_loss=0.702, bbox_IOU=0]\n",
            "Epoch 2:  98% 376/385 [12:09<00:17,  1.94s/it, loss=2.825, v_num=1, classification_loss=3.24, regression_loss=0.702, bbox_IOU=0]\n",
            "Epoch 2:  98% 377/385 [12:11<00:15,  1.94s/it, loss=2.825, v_num=1, classification_loss=3.24, regression_loss=0.702, bbox_IOU=0]\n",
            "Epoch 2:  98% 378/385 [12:13<00:13,  1.94s/it, loss=2.825, v_num=1, classification_loss=3.24, regression_loss=0.702, bbox_IOU=0]\n",
            "Epoch 2:  98% 379/385 [12:14<00:11,  1.94s/it, loss=2.825, v_num=1, classification_loss=3.24, regression_loss=0.702, bbox_IOU=0]\n",
            "Epoch 2:  99% 380/385 [12:16<00:09,  1.94s/it, loss=2.825, v_num=1, classification_loss=3.24, regression_loss=0.702, bbox_IOU=0]\n",
            "Epoch 2:  99% 381/385 [12:17<00:07,  1.94s/it, loss=2.825, v_num=1, classification_loss=3.24, regression_loss=0.702, bbox_IOU=0]\n",
            "Epoch 2:  99% 382/385 [12:19<00:05,  1.94s/it, loss=2.825, v_num=1, classification_loss=3.24, regression_loss=0.702, bbox_IOU=0]\n",
            "Epoch 2:  99% 383/385 [12:21<00:03,  1.94s/it, loss=2.825, v_num=1, classification_loss=3.24, regression_loss=0.702, bbox_IOU=0]\n",
            "Epoch 2: 100% 384/385 [12:22<00:01,  1.93s/it, loss=2.825, v_num=1, classification_loss=3.24, regression_loss=0.702, bbox_IOU=0]\n",
            "Epoch 2: 100% 385/385 [12:23<00:00,  1.93s/it, loss=2.825, v_num=1, classification_loss=3.24, regression_loss=0.702, bbox_IOU=0]Running per image evaluation...\n",
            "Evaluate annotation type *bbox*\n",
            "DONE (t=0.00s).\n",
            "Accumulating evaluation results...\n",
            "DONE (t=0.01s).\n",
            "IoU metric: bbox\n",
            " Average Precision  (AP) @[ IoU=0.50:0.95 | area=   all | maxDets=100 ] = 0.000\n",
            " Average Precision  (AP) @[ IoU=0.50      | area=   all | maxDets=100 ] = 0.000\n",
            " Average Precision  (AP) @[ IoU=0.75      | area=   all | maxDets=100 ] = 0.000\n",
            " Average Precision  (AP) @[ IoU=0.50:0.95 | area= small | maxDets=100 ] = -1.000\n",
            " Average Precision  (AP) @[ IoU=0.50:0.95 | area=medium | maxDets=100 ] = 0.000\n",
            " Average Precision  (AP) @[ IoU=0.50:0.95 | area= large | maxDets=100 ] = 0.000\n",
            " Average Recall     (AR) @[ IoU=0.50:0.95 | area=   all | maxDets=  1 ] = 0.000\n",
            " Average Recall     (AR) @[ IoU=0.50:0.95 | area=   all | maxDets= 10 ] = 0.000\n",
            " Average Recall     (AR) @[ IoU=0.50:0.95 | area=   all | maxDets=100 ] = 0.000\n",
            " Average Recall     (AR) @[ IoU=0.50:0.95 | area= small | maxDets=100 ] = -1.000\n",
            " Average Recall     (AR) @[ IoU=0.50:0.95 | area=medium | maxDets=100 ] = 0.000\n",
            " Average Recall     (AR) @[ IoU=0.50:0.95 | area= large | maxDets=100 ] = 0.000\n",
            "Epoch 2: 100% 385/385 [12:24<00:00,  1.93s/it, loss=2.825, v_num=1, classification_loss=3.24, regression_loss=0.702, bbox_IOU=0]\n",
            "Epoch 3:  49% 189/385 [06:16<06:30,  1.99s/it, loss=2.674, v_num=1, classification_loss=2.44, regression_loss=0.449, bbox_IOU=0]"
          ],
          "name": "stdout"
        }
      ]
    },
    {
      "cell_type": "code",
      "metadata": {
        "id": "O5AyMLDBEr6j",
        "colab_type": "code",
        "colab": {}
      },
      "source": [
        ""
      ],
      "execution_count": null,
      "outputs": []
    }
  ]
}