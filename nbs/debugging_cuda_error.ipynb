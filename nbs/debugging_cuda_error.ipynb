{
  "nbformat": 4,
  "nbformat_minor": 0,
  "metadata": {
    "colab": {
      "name": "debugging_cuda_error.ipynb",
      "provenance": [],
      "collapsed_sections": [],
      "mount_file_id": "1a9VtI5w8QJ5x7TuRaxQugMbrmrNVnoMr",
      "authorship_tag": "ABX9TyNxSlDgLjXO55IlBB9g77k8",
      "include_colab_link": true
    },
    "kernelspec": {
      "name": "python3",
      "display_name": "Python 3"
    },
    "accelerator": "GPU"
  },
  "cells": [
    {
      "cell_type": "markdown",
      "metadata": {
        "id": "view-in-github",
        "colab_type": "text"
      },
      "source": [
        "<a href=\"https://colab.research.google.com/github/benihime91/pytorch_retinanet/blob/master/nbs/debugging_cuda_error.ipynb\" target=\"_parent\"><img src=\"https://colab.research.google.com/assets/colab-badge.svg\" alt=\"Open In Colab\"/></a>"
      ]
    },
    {
      "cell_type": "code",
      "metadata": {
        "id": "qwvtiC6j9ZA6",
        "colab_type": "code",
        "colab": {
          "base_uri": "https://localhost:8080/",
          "height": 136
        },
        "outputId": "e24abf82-a730-49ce-93e4-be9171df7db3"
      },
      "source": [
        "! git clone https://github.com/benihime91/pytorch_retinanet.git # Clone the Repo"
      ],
      "execution_count": 1,
      "outputs": [
        {
          "output_type": "stream",
          "text": [
            "Cloning into 'pytorch_retinanet'...\n",
            "remote: Enumerating objects: 276, done.\u001b[K\n",
            "remote: Counting objects:   0% (1/276)\u001b[K\rremote: Counting objects:   1% (3/276)\u001b[K\rremote: Counting objects:   2% (6/276)\u001b[K\rremote: Counting objects:   3% (9/276)\u001b[K\rremote: Counting objects:   4% (12/276)\u001b[K\rremote: Counting objects:   5% (14/276)\u001b[K\rremote: Counting objects:   6% (17/276)\u001b[K\rremote: Counting objects:   7% (20/276)\u001b[K\rremote: Counting objects:   8% (23/276)\u001b[K\rremote: Counting objects:   9% (25/276)\u001b[K\rremote: Counting objects:  10% (28/276)\u001b[K\rremote: Counting objects:  11% (31/276)\u001b[K\rremote: Counting objects:  12% (34/276)\u001b[K\rremote: Counting objects:  13% (36/276)\u001b[K\rremote: Counting objects:  14% (39/276)\u001b[K\rremote: Counting objects:  15% (42/276)\u001b[K\rremote: Counting objects:  16% (45/276)\u001b[K\rremote: Counting objects:  17% (47/276)\u001b[K\rremote: Counting objects:  18% (50/276)\u001b[K\rremote: Counting objects:  19% (53/276)\u001b[K\rremote: Counting objects:  20% (56/276)\u001b[K\rremote: Counting objects:  21% (58/276)\u001b[K\rremote: Counting objects:  22% (61/276)\u001b[K\rremote: Counting objects:  23% (64/276)\u001b[K\rremote: Counting objects:  24% (67/276)\u001b[K\rremote: Counting objects:  25% (69/276)\u001b[K\rremote: Counting objects:  26% (72/276)\u001b[K\rremote: Counting objects:  27% (75/276)\u001b[K\rremote: Counting objects:  28% (78/276)\u001b[K\rremote: Counting objects:  29% (81/276)\u001b[K\rremote: Counting objects:  30% (83/276)\u001b[K\rremote: Counting objects:  31% (86/276)\u001b[K\rremote: Counting objects:  32% (89/276)\u001b[K\rremote: Counting objects:  33% (92/276)\u001b[K\rremote: Counting objects:  34% (94/276)\u001b[K\rremote: Counting objects:  35% (97/276)\u001b[K\rremote: Counting objects:  36% (100/276)\rremote: Counting objects:  37% (103/276)\u001b[K\rremote: Counting objects:  38% (105/276)\u001b[K\rremote: Counting objects:  39% (108/276)\u001b[K\rremote: Counting objects:  40% (111/276)\u001b[K\rremote: Counting objects:  41% (114/276)\u001b[K\rremote: Counting objects:  42% (116/276)\u001b[K\rremote: Counting objects:  43% (119/276)\u001b[K\rremote: Counting objects:  44% (122/276)\u001b[K\rremote: Counting objects:  45% (125/276)\u001b[K\rremote: Counting objects:  46% (127/276)\u001b[K\rremote: Counting objects:  47% (130/276)\u001b[K\rremote: Counting objects:  48% (133/276)\u001b[K\rremote: Counting objects:  49% (136/276)\u001b[K\rremote: Counting objects:  50% (138/276)\u001b[K\rremote: Counting objects:  51% (141/276)\u001b[K\rremote: Counting objects:  52% (144/276)\u001b[K\rremote: Counting objects:  53% (147/276)\u001b[K\rremote: Counting objects:  54% (150/276)\u001b[K\rremote: Counting objects:  55% (152/276)\u001b[K\rremote: Counting objects:  56% (155/276)\u001b[K\rremote: Counting objects:  57% (158/276)\u001b[K\rremote: Counting objects:  58% (161/276)\u001b[K\rremote: Counting objects:  59% (163/276)\u001b[K\rremote: Counting objects:  60% (166/276)\u001b[K\rremote: Counting objects:  61% (169/276)\u001b[K\rremote: Counting objects:  62% (172/276)\u001b[K\rremote: Counting objects:  63% (174/276)\u001b[K\rremote: Counting objects:  64% (177/276)\u001b[K\rremote: Counting objects:  65% (180/276)\u001b[K\rremote: Counting objects:  66% (183/276)\u001b[K\rremote: Counting objects:  67% (185/276)\u001b[K\rremote: Counting objects:  68% (188/276)\u001b[K\rremote: Counting objects:  69% (191/276)\u001b[K\rremote: Counting objects:  70% (194/276)\u001b[K\rremote: Counting objects:  71% (196/276)\u001b[K\rremote: Counting objects:  72% (199/276)\u001b[K\rremote: Counting objects:  73% (202/276)\u001b[K\rremote: Counting objects:  74% (205/276)\u001b[K\rremote: Counting objects:  75% (207/276)\u001b[K\rremote: Counting objects:  76% (210/276)\u001b[K\rremote: Counting objects:  77% (213/276)\u001b[K\rremote: Counting objects:  78% (216/276)\u001b[K\rremote: Counting objects:  79% (219/276)\u001b[K\rremote: Counting objects:  80% (221/276)\u001b[K\rremote: Counting objects:  81% (224/276)\u001b[K\rremote: Counting objects:  82% (227/276)\u001b[K\rremote: Counting objects:  83% (230/276)\u001b[K\rremote: Counting objects:  84% (232/276)\u001b[K\rremote: Counting objects:  85% (235/276)\u001b[K\rremote: Counting objects:  86% (238/276)\u001b[K\rremote: Counting objects:  87% (241/276)\u001b[K\rremote: Counting objects:  88% (243/276)\u001b[K\rremote: Counting objects:  89% (246/276)\u001b[K\rremote: Counting objects:  90% (249/276)\u001b[K\rremote: Counting objects:  91% (252/276)\u001b[K\rremote: Counting objects:  92% (254/276)\u001b[K\rremote: Counting objects:  93% (257/276)\u001b[K\rremote: Counting objects:  94% (260/276)\u001b[K\rremote: Counting objects:  95% (263/276)\u001b[K\rremote: Counting objects:  96% (265/276)\u001b[K\rremote: Counting objects:  97% (268/276)\u001b[K\rremote: Counting objects:  98% (271/276)\u001b[K\rremote: Counting objects:  99% (274/276)\u001b[K\rremote: Counting objects: 100% (276/276)\u001b[K\rremote: Counting objects: 100% (276/276), done.\u001b[K\n",
            "remote: Compressing objects:   0% (1/195)\u001b[K\rremote: Compressing objects:   1% (2/195)\u001b[K\rremote: Compressing objects:   2% (4/195)\u001b[K\rremote: Compressing objects:   3% (6/195)\u001b[K\rremote: Compressing objects:   4% (8/195)\u001b[K\rremote: Compressing objects:   5% (10/195)\u001b[K\rremote: Compressing objects:   6% (12/195)\u001b[K\rremote: Compressing objects:   7% (14/195)\u001b[K\rremote: Compressing objects:   8% (16/195)\u001b[K\rremote: Compressing objects:   9% (18/195)\u001b[K\rremote: Compressing objects:  10% (20/195)\u001b[K\rremote: Compressing objects:  11% (22/195)\u001b[K\rremote: Compressing objects:  12% (24/195)\u001b[K\rremote: Compressing objects:  13% (26/195)\u001b[K\rremote: Compressing objects:  14% (28/195)\u001b[K\rremote: Compressing objects:  15% (30/195)\u001b[K\rremote: Compressing objects:  16% (32/195)\u001b[K\rremote: Compressing objects:  17% (34/195)\u001b[K\rremote: Compressing objects:  18% (36/195)\u001b[K\rremote: Compressing objects:  19% (38/195)\u001b[K\rremote: Compressing objects:  20% (39/195)\u001b[K\rremote: Compressing objects:  21% (41/195)\u001b[K\rremote: Compressing objects:  22% (43/195)\u001b[K\rremote: Compressing objects:  23% (45/195)\u001b[K\rremote: Compressing objects:  24% (47/195)\u001b[K\rremote: Compressing objects:  25% (49/195)\u001b[K\rremote: Compressing objects:  26% (51/195)\u001b[K\rremote: Compressing objects:  27% (53/195)\u001b[K\rremote: Compressing objects:  28% (55/195)\u001b[K\rremote: Compressing objects:  29% (57/195)\u001b[K\rremote: Compressing objects:  30% (59/195)\u001b[K\rremote: Compressing objects:  31% (61/195)\u001b[K\rremote: Compressing objects:  32% (63/195)\u001b[K\rremote: Compressing objects:  33% (65/195)\u001b[K\rremote: Compressing objects:  34% (67/195)\u001b[K\rremote: Compressing objects:  35% (69/195)\u001b[K\rremote: Compressing objects:  36% (71/195)\u001b[K\rremote: Compressing objects:  37% (73/195)\u001b[K\rremote: Compressing objects:  38% (75/195)\u001b[K\rremote: Compressing objects:  39% (77/195)\u001b[K\rremote: Compressing objects:  40% (78/195)\u001b[K\rremote: Compressing objects:  41% (80/195)\u001b[K\rremote: Compressing objects:  42% (82/195)\u001b[K\rremote: Compressing objects:  43% (84/195)\u001b[K\rremote: Compressing objects:  44% (86/195)\u001b[K\rremote: Compressing objects:  45% (88/195)\u001b[K\rremote: Compressing objects:  46% (90/195)\u001b[K\rremote: Compressing objects:  47% (92/195)\u001b[K\rremote: Compressing objects:  48% (94/195)\u001b[K\rremote: Compressing objects:  49% (96/195)\u001b[K\rremote: Compressing objects:  50% (98/195)\u001b[K\rremote: Compressing objects:  51% (100/195)\u001b[K\rremote: Compressing objects:  52% (102/195)\u001b[K\rremote: Compressing objects:  53% (104/195)\u001b[K\rremote: Compressing objects:  54% (106/195)\u001b[K\rremote: Compressing objects:  55% (108/195)\u001b[K\rremote: Compressing objects:  56% (110/195)\u001b[K\rremote: Compressing objects:  57% (112/195)\u001b[K\rremote: Compressing objects:  58% (114/195)\u001b[K\rremote: Compressing objects:  59% (116/195)\u001b[K\rremote: Compressing objects:  60% (117/195)\u001b[K\rremote: Compressing objects:  61% (119/195)\u001b[K\rremote: Compressing objects:  62% (121/195)\u001b[K\rremote: Compressing objects:  63% (123/195)\u001b[K\rremote: Compressing objects:  64% (125/195)\u001b[K\rremote: Compressing objects:  65% (127/195)\u001b[K\rremote: Compressing objects:  66% (129/195)\u001b[K\rremote: Compressing objects:  67% (131/195)\u001b[K\rremote: Compressing objects:  68% (133/195)\u001b[K\rremote: Compressing objects:  69% (135/195)\u001b[K\rremote: Compressing objects:  70% (137/195)\u001b[K\rremote: Compressing objects:  71% (139/195)\u001b[K\rremote: Compressing objects:  72% (141/195)\u001b[K\rremote: Compressing objects:  73% (143/195)\u001b[K\rremote: Compressing objects:  74% (145/195)\u001b[K\rremote: Compressing objects:  75% (147/195)\u001b[K\rremote: Compressing objects:  76% (149/195)\u001b[K\rremote: Compressing objects:  77% (151/195)\u001b[K\rremote: Compressing objects:  78% (153/195)\u001b[K\rremote: Compressing objects:  79% (155/195)\u001b[K\rremote: Compressing objects:  80% (156/195)\u001b[K\rremote: Compressing objects:  81% (158/195)\u001b[K\rremote: Compressing objects:  82% (160/195)\u001b[K\rremote: Compressing objects:  83% (162/195)\u001b[K\rremote: Compressing objects:  84% (164/195)\u001b[K\rremote: Compressing objects:  85% (166/195)\u001b[K\rremote: Compressing objects:  86% (168/195)\u001b[K\rremote: Compressing objects:  87% (170/195)\u001b[K\rremote: Compressing objects:  88% (172/195)\u001b[K\rremote: Compressing objects:  89% (174/195)\u001b[K\rremote: Compressing objects:  90% (176/195)\u001b[K\rremote: Compressing objects:  91% (178/195)\u001b[K\rremote: Compressing objects:  92% (180/195)\u001b[K\rremote: Compressing objects:  93% (182/195)\u001b[K\rremote: Compressing objects:  94% (184/195)\u001b[K\rremote: Compressing objects:  95% (186/195)\u001b[K\rremote: Compressing objects:  96% (188/195)\u001b[K\rremote: Compressing objects:  97% (190/195)\u001b[K\rremote: Compressing objects:  98% (192/195)\u001b[K\rremote: Compressing objects:  99% (194/195)\u001b[K\rremote: Compressing objects: 100% (195/195)\u001b[K\rremote: Compressing objects: 100% (195/195), done.\u001b[K\n",
            "Receiving objects:   0% (1/722)   \rReceiving objects:   1% (8/722)   \rReceiving objects:   2% (15/722)   \rReceiving objects:   3% (22/722)   \rReceiving objects:   4% (29/722)   \rReceiving objects:   5% (37/722)   \rReceiving objects:   6% (44/722)   \rReceiving objects:   7% (51/722)   \rReceiving objects:   8% (58/722)   \rReceiving objects:   9% (65/722)   \rReceiving objects:  10% (73/722)   \rReceiving objects:  11% (80/722)   \rReceiving objects:  12% (87/722)   \rReceiving objects:  13% (94/722)   \rReceiving objects:  14% (102/722)   \rReceiving objects:  15% (109/722)   \rReceiving objects:  16% (116/722)   \rReceiving objects:  17% (123/722)   \rReceiving objects:  18% (130/722)   \rReceiving objects:  19% (138/722)   \rReceiving objects:  20% (145/722)   \rReceiving objects:  21% (152/722)   \rReceiving objects:  22% (159/722)   \rReceiving objects:  23% (167/722)   \rReceiving objects:  24% (174/722)   \rReceiving objects:  25% (181/722)   \rReceiving objects:  26% (188/722)   \rReceiving objects:  27% (195/722)   \rReceiving objects:  28% (203/722)   \rReceiving objects:  29% (210/722)   \rReceiving objects:  30% (217/722)   \rReceiving objects:  31% (224/722)   \rReceiving objects:  32% (232/722)   \rReceiving objects:  33% (239/722)   \rReceiving objects:  34% (246/722)   \rReceiving objects:  35% (253/722)   \rReceiving objects:  36% (260/722)   \rReceiving objects:  37% (268/722)   \rReceiving objects:  38% (275/722)   \rReceiving objects:  39% (282/722)   \rReceiving objects:  40% (289/722)   \rReceiving objects:  41% (297/722)   \rReceiving objects:  42% (304/722)   \rReceiving objects:  43% (311/722)   \rReceiving objects:  44% (318/722)   \rReceiving objects:  45% (325/722)   \rReceiving objects:  46% (333/722)   \rReceiving objects:  47% (340/722)   \rReceiving objects:  48% (347/722)   \rReceiving objects:  49% (354/722)   \rReceiving objects:  50% (361/722)   \rReceiving objects:  51% (369/722)   \rReceiving objects:  52% (376/722)   \rReceiving objects:  53% (383/722)   \rReceiving objects:  54% (390/722)   \rReceiving objects:  55% (398/722)   \rReceiving objects:  56% (405/722)   \rReceiving objects:  57% (412/722)   \rReceiving objects:  58% (419/722)   \rReceiving objects:  59% (426/722)   \rReceiving objects:  60% (434/722)   \rReceiving objects:  61% (441/722)   \rReceiving objects:  62% (448/722)   \rReceiving objects:  63% (455/722)   \rReceiving objects:  64% (463/722)   \rReceiving objects:  65% (470/722)   \rReceiving objects:  66% (477/722)   \rReceiving objects:  67% (484/722)   \rReceiving objects:  68% (491/722)   \rReceiving objects:  69% (499/722)   \rReceiving objects:  70% (506/722)   \rReceiving objects:  71% (513/722)   \rReceiving objects:  72% (520/722)   \rReceiving objects:  73% (528/722)   \rReceiving objects:  74% (535/722)   \rReceiving objects:  75% (542/722)   \rReceiving objects:  76% (549/722)   \rReceiving objects:  77% (556/722)   \rReceiving objects:  78% (564/722)   \rReceiving objects:  79% (571/722)   \rReceiving objects:  80% (578/722)   \rReceiving objects:  81% (585/722)   \rReceiving objects:  82% (593/722)   \rremote: Total 722 (delta 191), reused 154 (delta 81), pack-reused 446\u001b[K\n",
            "Receiving objects:  83% (600/722)   \rReceiving objects:  84% (607/722)   \rReceiving objects:  85% (614/722)   \rReceiving objects:  86% (621/722)   \rReceiving objects:  87% (629/722)   \rReceiving objects:  88% (636/722)   \rReceiving objects:  89% (643/722)   \rReceiving objects:  90% (650/722)   \rReceiving objects:  91% (658/722)   \rReceiving objects:  92% (665/722)   \rReceiving objects:  93% (672/722)   \rReceiving objects:  94% (679/722)   \rReceiving objects:  95% (686/722)   \rReceiving objects:  96% (694/722)   \rReceiving objects:  97% (701/722)   \rReceiving objects:  98% (708/722)   \rReceiving objects:  99% (715/722)   \rReceiving objects: 100% (722/722)   \rReceiving objects: 100% (722/722), 4.25 MiB | 10.19 MiB/s, done.\n",
            "Resolving deltas:   0% (0/466)   \rResolving deltas:   3% (16/466)   \rResolving deltas:   4% (21/466)   \rResolving deltas:   5% (27/466)   \rResolving deltas:  10% (48/466)   \rResolving deltas:  13% (61/466)   \rResolving deltas:  14% (69/466)   \rResolving deltas:  15% (72/466)   \rResolving deltas:  25% (117/466)   \rResolving deltas:  26% (125/466)   \rResolving deltas:  27% (129/466)   \rResolving deltas:  28% (132/466)   \rResolving deltas:  29% (139/466)   \rResolving deltas:  30% (144/466)   \rResolving deltas:  31% (146/466)   \rResolving deltas:  32% (151/466)   \rResolving deltas:  33% (154/466)   \rResolving deltas:  34% (159/466)   \rResolving deltas:  36% (168/466)   \rResolving deltas:  37% (177/466)   \rResolving deltas:  40% (191/466)   \rResolving deltas:  43% (201/466)   \rResolving deltas:  44% (206/466)   \rResolving deltas:  46% (218/466)   \rResolving deltas:  47% (221/466)   \rResolving deltas:  48% (226/466)   \rResolving deltas:  49% (231/466)   \rResolving deltas:  51% (239/466)   \rResolving deltas:  52% (245/466)   \rResolving deltas:  55% (257/466)   \rResolving deltas:  56% (261/466)   \rResolving deltas:  57% (266/466)   \rResolving deltas:  58% (271/466)   \rResolving deltas:  59% (275/466)   \rResolving deltas:  68% (319/466)   \rResolving deltas:  71% (335/466)   \rResolving deltas:  72% (338/466)   \rResolving deltas:  73% (344/466)   \rResolving deltas:  74% (346/466)   \rResolving deltas:  78% (367/466)   \rResolving deltas:  80% (376/466)   \rResolving deltas:  85% (400/466)   \rResolving deltas:  86% (405/466)   \rResolving deltas:  92% (433/466)   \rResolving deltas:  94% (439/466)   \rResolving deltas:  98% (459/466)   \rResolving deltas:  99% (465/466)   \rResolving deltas: 100% (466/466)   \rResolving deltas: 100% (466/466), done.\n"
          ],
          "name": "stdout"
        }
      ]
    },
    {
      "cell_type": "code",
      "metadata": {
        "id": "PfOmCUuophol",
        "colab_type": "code",
        "colab": {
          "base_uri": "https://localhost:8080/",
          "height": 34
        },
        "outputId": "e55c9aa9-0e38-461a-d14e-b407095e0946"
      },
      "source": [
        "# Extracting the Data assuming data is stored in `/content/drive/My Drive/Data/oxford-iiit-pet.tgz`\n",
        "! tar zxf /content/drive/My\\ Drive/Data/oxford-iiit-pet.tgz -C /content/ \n",
        "! echo \" >> Data Unziped\""
      ],
      "execution_count": 2,
      "outputs": [
        {
          "output_type": "stream",
          "text": [
            " >> Data Unziped\n"
          ],
          "name": "stdout"
        }
      ]
    },
    {
      "cell_type": "code",
      "metadata": {
        "id": "4FMDxcLzKWLj",
        "colab_type": "code",
        "colab": {
          "base_uri": "https://localhost:8080/",
          "height": 51
        },
        "outputId": "bd8fc137-9265-43fb-b179-947ef9c8e104"
      },
      "source": [
        "%%bash\n",
        "# Colab Setup : Install Required Libraries\n",
        "pip install -U pytorch-lightning --quiet\n",
        "pip install -U git+https://github.com/albumentations-team/albumentations --quiet\n",
        "pip install -U bounding_box --quiet\n",
        "echo \" >> Libraries successfully installed !\""
      ],
      "execution_count": 3,
      "outputs": [
        {
          "output_type": "stream",
          "text": [
            " >> Libraries successfully installed !\n"
          ],
          "name": "stdout"
        },
        {
          "output_type": "stream",
          "text": [
            "ERROR: tensorflow 2.3.0 has requirement tensorboard<3,>=2.3.0, but you'll have tensorboard 2.2.0 which is incompatible.\n"
          ],
          "name": "stderr"
        }
      ]
    },
    {
      "cell_type": "code",
      "metadata": {
        "id": "_VxlAliJd9eg",
        "colab_type": "code",
        "colab": {}
      },
      "source": [
        "import os\n",
        "os.chdir('/content/pytorch_retinanet')"
      ],
      "execution_count": 5,
      "outputs": []
    },
    {
      "cell_type": "code",
      "metadata": {
        "id": "EWyEybEFdNj6",
        "colab_type": "code",
        "colab": {
          "base_uri": "https://localhost:8080/",
          "height": 1000
        },
        "outputId": "07c0f3e3-af1f-4339-d592-3e23833f763e"
      },
      "source": [
        "! CUDA_LAUNCH_BLOCKING=1 python /content/pytorch_retinanet/cuda_error_decode.py"
      ],
      "execution_count": 7,
      "outputs": [
        {
          "output_type": "stream",
          "text": [
            "2020-08-22 20:38:03.836999: I tensorflow/stream_executor/platform/default/dso_loader.cc:48] Successfully opened dynamic library libcudart.so.10.1\n",
            "Downloading: \"https://download.pytorch.org/models/resnet18-5c106cde.pth\" to /root/.cache/torch/hub/checkpoints/resnet18-5c106cde.pth\n",
            "100% 44.7M/44.7M [00:00<00:00, 274MB/s]\n",
            "GPU available: True, used: True\n",
            "TPU available: False, using: 0 TPU cores\n",
            "CUDA_VISIBLE_DEVICES: [0]\n",
            "\n",
            "  | Name  | Type      | Params\n",
            "------------------------------------\n",
            "0 | model | Retinanet | 20 M  \n",
            "creating index...\n",
            "index created!\n",
            "Validation sanity check: 100% 1/1.0 [00:01<00:00,  1.10s/it]Running per image evaluation...\n",
            "Evaluate annotation type *bbox*\n",
            "DONE (t=0.00s).\n",
            "Accumulating evaluation results...\n",
            "DONE (t=0.02s).\n",
            "IoU metric: bbox\n",
            " Average Precision  (AP) @[ IoU=0.50:0.95 | area=   all | maxDets=100 ] = 0.000\n",
            " Average Precision  (AP) @[ IoU=0.50      | area=   all | maxDets=100 ] = 0.000\n",
            " Average Precision  (AP) @[ IoU=0.75      | area=   all | maxDets=100 ] = 0.000\n",
            " Average Precision  (AP) @[ IoU=0.50:0.95 | area= small | maxDets=100 ] = -1.000\n",
            " Average Precision  (AP) @[ IoU=0.50:0.95 | area=medium | maxDets=100 ] = -1.000\n",
            " Average Precision  (AP) @[ IoU=0.50:0.95 | area= large | maxDets=100 ] = 0.000\n",
            " Average Recall     (AR) @[ IoU=0.50:0.95 | area=   all | maxDets=  1 ] = 0.000\n",
            " Average Recall     (AR) @[ IoU=0.50:0.95 | area=   all | maxDets= 10 ] = 0.000\n",
            " Average Recall     (AR) @[ IoU=0.50:0.95 | area=   all | maxDets=100 ] = 0.000\n",
            " Average Recall     (AR) @[ IoU=0.50:0.95 | area= small | maxDets=100 ] = -1.000\n",
            " Average Recall     (AR) @[ IoU=0.50:0.95 | area=medium | maxDets=100 ] = -1.000\n",
            " Average Recall     (AR) @[ IoU=0.50:0.95 | area= large | maxDets=100 ] = 0.000\n",
            "creating index...\n",
            "index created!\n",
            "Epoch 0:  95% 691/730 [03:01<00:10,  3.81it/s, loss=1.259, v_num=0, classification_loss=0.0353, regression_loss=0]\n",
            "Validating: 0it [00:00, ?it/s]\u001b[A\n",
            "Epoch 0:  95% 692/730 [03:02<00:10,  3.79it/s, loss=1.259, v_num=0, classification_loss=0.0353, regression_loss=0]\n",
            "Epoch 0:  95% 693/730 [03:03<00:09,  3.78it/s, loss=1.259, v_num=0, classification_loss=0.0353, regression_loss=0]\n",
            "Epoch 0:  95% 694/730 [03:04<00:09,  3.77it/s, loss=1.259, v_num=0, classification_loss=0.0353, regression_loss=0]\n",
            "Epoch 0:  95% 695/730 [03:05<00:09,  3.76it/s, loss=1.259, v_num=0, classification_loss=0.0353, regression_loss=0]\n",
            "Epoch 0:  95% 696/730 [03:06<00:09,  3.74it/s, loss=1.259, v_num=0, classification_loss=0.0353, regression_loss=0]\n",
            "Epoch 0:  95% 697/730 [03:07<00:08,  3.73it/s, loss=1.259, v_num=0, classification_loss=0.0353, regression_loss=0]\n",
            "Epoch 0:  96% 698/730 [03:07<00:08,  3.72it/s, loss=1.259, v_num=0, classification_loss=0.0353, regression_loss=0]\n",
            "Epoch 0:  96% 699/730 [03:08<00:08,  3.70it/s, loss=1.259, v_num=0, classification_loss=0.0353, regression_loss=0]\n",
            "Epoch 0:  96% 700/730 [03:09<00:08,  3.69it/s, loss=1.259, v_num=0, classification_loss=0.0353, regression_loss=0]\n",
            "Epoch 0:  96% 701/730 [03:10<00:07,  3.68it/s, loss=1.259, v_num=0, classification_loss=0.0353, regression_loss=0]\n",
            "Epoch 0:  96% 702/730 [03:11<00:07,  3.67it/s, loss=1.259, v_num=0, classification_loss=0.0353, regression_loss=0]\n",
            "Epoch 0:  96% 703/730 [03:12<00:07,  3.66it/s, loss=1.259, v_num=0, classification_loss=0.0353, regression_loss=0]\n",
            "Epoch 0:  96% 704/730 [03:12<00:07,  3.65it/s, loss=1.259, v_num=0, classification_loss=0.0353, regression_loss=0]\n",
            "Epoch 0:  97% 705/730 [03:13<00:06,  3.64it/s, loss=1.259, v_num=0, classification_loss=0.0353, regression_loss=0]\n",
            "Epoch 0:  97% 706/730 [03:14<00:06,  3.62it/s, loss=1.259, v_num=0, classification_loss=0.0353, regression_loss=0]\n",
            "Epoch 0:  97% 707/730 [03:15<00:06,  3.61it/s, loss=1.259, v_num=0, classification_loss=0.0353, regression_loss=0]\n",
            "Epoch 0:  97% 708/730 [03:16<00:06,  3.60it/s, loss=1.259, v_num=0, classification_loss=0.0353, regression_loss=0]\n",
            "Epoch 0:  97% 709/730 [03:17<00:05,  3.59it/s, loss=1.259, v_num=0, classification_loss=0.0353, regression_loss=0]\n",
            "Epoch 0:  97% 710/730 [03:18<00:05,  3.58it/s, loss=1.259, v_num=0, classification_loss=0.0353, regression_loss=0]\n",
            "Epoch 0:  97% 711/730 [03:19<00:05,  3.57it/s, loss=1.259, v_num=0, classification_loss=0.0353, regression_loss=0]\n",
            "Epoch 0:  98% 712/730 [03:19<00:05,  3.56it/s, loss=1.259, v_num=0, classification_loss=0.0353, regression_loss=0]\n",
            "Epoch 0:  98% 713/730 [03:20<00:04,  3.55it/s, loss=1.259, v_num=0, classification_loss=0.0353, regression_loss=0]\n",
            "Epoch 0:  98% 714/730 [03:21<00:04,  3.54it/s, loss=1.259, v_num=0, classification_loss=0.0353, regression_loss=0]\n",
            "Epoch 0:  98% 715/730 [03:22<00:04,  3.53it/s, loss=1.259, v_num=0, classification_loss=0.0353, regression_loss=0]\n",
            "Epoch 0:  98% 716/730 [03:23<00:03,  3.52it/s, loss=1.259, v_num=0, classification_loss=0.0353, regression_loss=0]\n",
            "Epoch 0:  98% 717/730 [03:24<00:03,  3.51it/s, loss=1.259, v_num=0, classification_loss=0.0353, regression_loss=0]\n",
            "Epoch 0:  98% 718/730 [03:24<00:03,  3.50it/s, loss=1.259, v_num=0, classification_loss=0.0353, regression_loss=0]\n",
            "Epoch 0:  98% 719/730 [03:25<00:03,  3.49it/s, loss=1.259, v_num=0, classification_loss=0.0353, regression_loss=0]\n",
            "Epoch 0:  99% 720/730 [03:26<00:02,  3.48it/s, loss=1.259, v_num=0, classification_loss=0.0353, regression_loss=0]\n",
            "Epoch 0:  99% 721/730 [03:27<00:02,  3.47it/s, loss=1.259, v_num=0, classification_loss=0.0353, regression_loss=0]\n",
            "Epoch 0:  99% 722/730 [03:28<00:02,  3.47it/s, loss=1.259, v_num=0, classification_loss=0.0353, regression_loss=0]\n",
            "Epoch 0:  99% 723/730 [03:29<00:02,  3.46it/s, loss=1.259, v_num=0, classification_loss=0.0353, regression_loss=0]\n",
            "Epoch 0:  99% 724/730 [03:30<00:01,  3.45it/s, loss=1.259, v_num=0, classification_loss=0.0353, regression_loss=0]\n",
            "Epoch 0:  99% 725/730 [03:31<00:01,  3.43it/s, loss=1.259, v_num=0, classification_loss=0.0353, regression_loss=0]\n",
            "Epoch 0:  99% 726/730 [03:31<00:01,  3.43it/s, loss=1.259, v_num=0, classification_loss=0.0353, regression_loss=0]\n",
            "Epoch 0: 100% 727/730 [03:32<00:00,  3.42it/s, loss=1.259, v_num=0, classification_loss=0.0353, regression_loss=0]\n",
            "Epoch 0: 100% 728/730 [03:33<00:00,  3.41it/s, loss=1.259, v_num=0, classification_loss=0.0353, regression_loss=0]\n",
            "Epoch 0: 100% 729/730 [03:34<00:00,  3.40it/s, loss=1.259, v_num=0, classification_loss=0.0353, regression_loss=0]\n",
            "Epoch 0: 100% 730/730 [03:34<00:00,  3.40it/s, loss=1.259, v_num=0, classification_loss=0.0353, regression_loss=0]Running per image evaluation...\n",
            "Evaluate annotation type *bbox*\n",
            "DONE (t=0.00s).\n",
            "Accumulating evaluation results...\n",
            "DONE (t=0.01s).\n",
            "IoU metric: bbox\n",
            " Average Precision  (AP) @[ IoU=0.50:0.95 | area=   all | maxDets=100 ] = 0.000\n",
            " Average Precision  (AP) @[ IoU=0.50      | area=   all | maxDets=100 ] = 0.000\n",
            " Average Precision  (AP) @[ IoU=0.75      | area=   all | maxDets=100 ] = 0.000\n",
            " Average Precision  (AP) @[ IoU=0.50:0.95 | area= small | maxDets=100 ] = -1.000\n",
            " Average Precision  (AP) @[ IoU=0.50:0.95 | area=medium | maxDets=100 ] = -1.000\n",
            " Average Precision  (AP) @[ IoU=0.50:0.95 | area= large | maxDets=100 ] = 0.000\n",
            " Average Recall     (AR) @[ IoU=0.50:0.95 | area=   all | maxDets=  1 ] = 0.000\n",
            " Average Recall     (AR) @[ IoU=0.50:0.95 | area=   all | maxDets= 10 ] = 0.000\n",
            " Average Recall     (AR) @[ IoU=0.50:0.95 | area=   all | maxDets=100 ] = 0.000\n",
            " Average Recall     (AR) @[ IoU=0.50:0.95 | area= small | maxDets=100 ] = -1.000\n",
            " Average Recall     (AR) @[ IoU=0.50:0.95 | area=medium | maxDets=100 ] = -1.000\n",
            " Average Recall     (AR) @[ IoU=0.50:0.95 | area= large | maxDets=100 ] = 0.000\n",
            "Epoch 0: 100% 730/730 [03:35<00:00,  3.39it/s, loss=1.259, v_num=0, classification_loss=0.0353, regression_loss=0, bbox_IOU=0]\n",
            "Epoch 1:  95% 691/730 [03:03<00:10,  3.77it/s, loss=0.989, v_num=0, classification_loss=1.55, regression_loss=0.017, bbox_IOU=0] \n",
            "Validating: 0it [00:00, ?it/s]\u001b[A\n",
            "Epoch 1:  95% 692/730 [03:04<00:10,  3.75it/s, loss=0.989, v_num=0, classification_loss=1.55, regression_loss=0.017, bbox_IOU=0]\n",
            "Epoch 1:  95% 693/730 [03:05<00:09,  3.74it/s, loss=0.989, v_num=0, classification_loss=1.55, regression_loss=0.017, bbox_IOU=0]\n",
            "Epoch 1:  95% 694/730 [03:06<00:09,  3.73it/s, loss=0.989, v_num=0, classification_loss=1.55, regression_loss=0.017, bbox_IOU=0]\n",
            "Epoch 1:  95% 695/730 [03:07<00:09,  3.71it/s, loss=0.989, v_num=0, classification_loss=1.55, regression_loss=0.017, bbox_IOU=0]\n",
            "Epoch 1:  95% 696/730 [03:08<00:09,  3.70it/s, loss=0.989, v_num=0, classification_loss=1.55, regression_loss=0.017, bbox_IOU=0]\n",
            "Epoch 1:  95% 697/730 [03:09<00:08,  3.69it/s, loss=0.989, v_num=0, classification_loss=1.55, regression_loss=0.017, bbox_IOU=0]\n",
            "Epoch 1:  96% 698/730 [03:09<00:08,  3.67it/s, loss=0.989, v_num=0, classification_loss=1.55, regression_loss=0.017, bbox_IOU=0]\n",
            "Epoch 1:  96% 699/730 [03:10<00:08,  3.66it/s, loss=0.989, v_num=0, classification_loss=1.55, regression_loss=0.017, bbox_IOU=0]\n",
            "Epoch 1:  96% 700/730 [03:11<00:08,  3.65it/s, loss=0.989, v_num=0, classification_loss=1.55, regression_loss=0.017, bbox_IOU=0]\n",
            "Epoch 1:  96% 701/730 [03:12<00:07,  3.64it/s, loss=0.989, v_num=0, classification_loss=1.55, regression_loss=0.017, bbox_IOU=0]\n",
            "Epoch 1:  96% 702/730 [03:13<00:07,  3.63it/s, loss=0.989, v_num=0, classification_loss=1.55, regression_loss=0.017, bbox_IOU=0]\n",
            "Epoch 1:  96% 703/730 [03:14<00:07,  3.62it/s, loss=0.989, v_num=0, classification_loss=1.55, regression_loss=0.017, bbox_IOU=0]\n",
            "Epoch 1:  96% 704/730 [03:15<00:07,  3.61it/s, loss=0.989, v_num=0, classification_loss=1.55, regression_loss=0.017, bbox_IOU=0]\n",
            "Epoch 1:  97% 705/730 [03:16<00:06,  3.60it/s, loss=0.989, v_num=0, classification_loss=1.55, regression_loss=0.017, bbox_IOU=0]\n",
            "Epoch 1:  97% 706/730 [03:16<00:06,  3.59it/s, loss=0.989, v_num=0, classification_loss=1.55, regression_loss=0.017, bbox_IOU=0]\n",
            "Epoch 1:  97% 707/730 [03:17<00:06,  3.57it/s, loss=0.989, v_num=0, classification_loss=1.55, regression_loss=0.017, bbox_IOU=0]\n",
            "Epoch 1:  97% 708/730 [03:18<00:06,  3.56it/s, loss=0.989, v_num=0, classification_loss=1.55, regression_loss=0.017, bbox_IOU=0]\n",
            "Epoch 1:  97% 709/730 [03:19<00:05,  3.55it/s, loss=0.989, v_num=0, classification_loss=1.55, regression_loss=0.017, bbox_IOU=0]\n",
            "Epoch 1:  97% 710/730 [03:20<00:05,  3.54it/s, loss=0.989, v_num=0, classification_loss=1.55, regression_loss=0.017, bbox_IOU=0]\n",
            "Epoch 1:  97% 711/730 [03:21<00:05,  3.53it/s, loss=0.989, v_num=0, classification_loss=1.55, regression_loss=0.017, bbox_IOU=0]\n",
            "Epoch 1:  98% 712/730 [03:22<00:05,  3.52it/s, loss=0.989, v_num=0, classification_loss=1.55, regression_loss=0.017, bbox_IOU=0]\n",
            "Epoch 1:  98% 713/730 [03:22<00:04,  3.51it/s, loss=0.989, v_num=0, classification_loss=1.55, regression_loss=0.017, bbox_IOU=0]\n",
            "Epoch 1:  98% 714/730 [03:23<00:04,  3.50it/s, loss=0.989, v_num=0, classification_loss=1.55, regression_loss=0.017, bbox_IOU=0]\n",
            "Epoch 1:  98% 715/730 [03:24<00:04,  3.50it/s, loss=0.989, v_num=0, classification_loss=1.55, regression_loss=0.017, bbox_IOU=0]\n",
            "Epoch 1:  98% 716/730 [03:25<00:04,  3.49it/s, loss=0.989, v_num=0, classification_loss=1.55, regression_loss=0.017, bbox_IOU=0]\n",
            "Epoch 1:  98% 717/730 [03:26<00:03,  3.48it/s, loss=0.989, v_num=0, classification_loss=1.55, regression_loss=0.017, bbox_IOU=0]\n",
            "Epoch 1:  98% 718/730 [03:27<00:03,  3.47it/s, loss=0.989, v_num=0, classification_loss=1.55, regression_loss=0.017, bbox_IOU=0]\n",
            "Epoch 1:  98% 719/730 [03:28<00:03,  3.46it/s, loss=0.989, v_num=0, classification_loss=1.55, regression_loss=0.017, bbox_IOU=0]\n",
            "Epoch 1:  99% 720/730 [03:28<00:02,  3.45it/s, loss=0.989, v_num=0, classification_loss=1.55, regression_loss=0.017, bbox_IOU=0]\n",
            "Epoch 1:  99% 721/730 [03:29<00:02,  3.44it/s, loss=0.989, v_num=0, classification_loss=1.55, regression_loss=0.017, bbox_IOU=0]\n",
            "Epoch 1:  99% 722/730 [03:30<00:02,  3.43it/s, loss=0.989, v_num=0, classification_loss=1.55, regression_loss=0.017, bbox_IOU=0]\n",
            "Epoch 1:  99% 723/730 [03:31<00:02,  3.42it/s, loss=0.989, v_num=0, classification_loss=1.55, regression_loss=0.017, bbox_IOU=0]\n",
            "Epoch 1:  99% 724/730 [03:32<00:01,  3.41it/s, loss=0.989, v_num=0, classification_loss=1.55, regression_loss=0.017, bbox_IOU=0]\n",
            "Epoch 1:  99% 725/730 [03:33<00:01,  3.40it/s, loss=0.989, v_num=0, classification_loss=1.55, regression_loss=0.017, bbox_IOU=0]\n",
            "Epoch 1:  99% 726/730 [03:34<00:01,  3.39it/s, loss=0.989, v_num=0, classification_loss=1.55, regression_loss=0.017, bbox_IOU=0]\n",
            "Epoch 1: 100% 727/730 [03:34<00:00,  3.38it/s, loss=0.989, v_num=0, classification_loss=1.55, regression_loss=0.017, bbox_IOU=0]\n",
            "Epoch 1: 100% 728/730 [03:35<00:00,  3.37it/s, loss=0.989, v_num=0, classification_loss=1.55, regression_loss=0.017, bbox_IOU=0]\n",
            "Epoch 1: 100% 729/730 [03:36<00:00,  3.36it/s, loss=0.989, v_num=0, classification_loss=1.55, regression_loss=0.017, bbox_IOU=0]\n",
            "Epoch 1: 100% 730/730 [03:37<00:00,  3.36it/s, loss=0.989, v_num=0, classification_loss=1.55, regression_loss=0.017, bbox_IOU=0]Running per image evaluation...\n",
            "Evaluate annotation type *bbox*\n",
            "DONE (t=0.00s).\n",
            "Accumulating evaluation results...\n",
            "DONE (t=0.01s).\n",
            "IoU metric: bbox\n",
            " Average Precision  (AP) @[ IoU=0.50:0.95 | area=   all | maxDets=100 ] = 0.000\n",
            " Average Precision  (AP) @[ IoU=0.50      | area=   all | maxDets=100 ] = 0.000\n",
            " Average Precision  (AP) @[ IoU=0.75      | area=   all | maxDets=100 ] = 0.000\n",
            " Average Precision  (AP) @[ IoU=0.50:0.95 | area= small | maxDets=100 ] = -1.000\n",
            " Average Precision  (AP) @[ IoU=0.50:0.95 | area=medium | maxDets=100 ] = -1.000\n",
            " Average Precision  (AP) @[ IoU=0.50:0.95 | area= large | maxDets=100 ] = 0.000\n",
            " Average Recall     (AR) @[ IoU=0.50:0.95 | area=   all | maxDets=  1 ] = 0.000\n",
            " Average Recall     (AR) @[ IoU=0.50:0.95 | area=   all | maxDets= 10 ] = 0.000\n",
            " Average Recall     (AR) @[ IoU=0.50:0.95 | area=   all | maxDets=100 ] = 0.000\n",
            " Average Recall     (AR) @[ IoU=0.50:0.95 | area= small | maxDets=100 ] = -1.000\n",
            " Average Recall     (AR) @[ IoU=0.50:0.95 | area=medium | maxDets=100 ] = -1.000\n",
            " Average Recall     (AR) @[ IoU=0.50:0.95 | area= large | maxDets=100 ] = 0.000\n",
            "Epoch 1: 100% 730/730 [03:37<00:00,  3.36it/s, loss=0.989, v_num=0, classification_loss=1.55, regression_loss=0.017, bbox_IOU=0]\n",
            "Epoch 2:  95% 691/730 [03:00<00:10,  3.82it/s, loss=1.096, v_num=0, classification_loss=1.17, regression_loss=0.00654, bbox_IOU=0]\n",
            "Validating: 0it [00:00, ?it/s]\u001b[A\n",
            "Epoch 2:  95% 692/730 [03:01<00:09,  3.80it/s, loss=1.096, v_num=0, classification_loss=1.17, regression_loss=0.00654, bbox_IOU=0]\n",
            "Epoch 2:  95% 693/730 [03:02<00:09,  3.79it/s, loss=1.096, v_num=0, classification_loss=1.17, regression_loss=0.00654, bbox_IOU=0]\n",
            "Epoch 2:  95% 694/730 [03:04<00:09,  3.77it/s, loss=1.096, v_num=0, classification_loss=1.17, regression_loss=0.00654, bbox_IOU=0]\n",
            "Epoch 2:  95% 695/730 [03:05<00:09,  3.76it/s, loss=1.096, v_num=0, classification_loss=1.17, regression_loss=0.00654, bbox_IOU=0]\n",
            "Epoch 2:  95% 696/730 [03:06<00:09,  3.74it/s, loss=1.096, v_num=0, classification_loss=1.17, regression_loss=0.00654, bbox_IOU=0]\n",
            "Epoch 2:  95% 697/730 [03:07<00:08,  3.72it/s, loss=1.096, v_num=0, classification_loss=1.17, regression_loss=0.00654, bbox_IOU=0]\n",
            "Epoch 2:  96% 698/730 [03:08<00:08,  3.70it/s, loss=1.096, v_num=0, classification_loss=1.17, regression_loss=0.00654, bbox_IOU=0]\n",
            "Epoch 2:  96% 699/730 [03:09<00:08,  3.68it/s, loss=1.096, v_num=0, classification_loss=1.17, regression_loss=0.00654, bbox_IOU=0]\n",
            "Epoch 2:  96% 700/730 [03:10<00:08,  3.67it/s, loss=1.096, v_num=0, classification_loss=1.17, regression_loss=0.00654, bbox_IOU=0]\n",
            "Epoch 2:  96% 701/730 [03:11<00:07,  3.65it/s, loss=1.096, v_num=0, classification_loss=1.17, regression_loss=0.00654, bbox_IOU=0]\n",
            "Epoch 2:  96% 702/730 [03:12<00:07,  3.64it/s, loss=1.096, v_num=0, classification_loss=1.17, regression_loss=0.00654, bbox_IOU=0]\n",
            "Epoch 2:  96% 703/730 [03:13<00:07,  3.62it/s, loss=1.096, v_num=0, classification_loss=1.17, regression_loss=0.00654, bbox_IOU=0]\n",
            "Epoch 2:  96% 704/730 [03:14<00:07,  3.61it/s, loss=1.096, v_num=0, classification_loss=1.17, regression_loss=0.00654, bbox_IOU=0]\n",
            "Epoch 2:  97% 705/730 [03:16<00:06,  3.60it/s, loss=1.096, v_num=0, classification_loss=1.17, regression_loss=0.00654, bbox_IOU=0]\n",
            "Epoch 2:  97% 706/730 [03:17<00:06,  3.58it/s, loss=1.096, v_num=0, classification_loss=1.17, regression_loss=0.00654, bbox_IOU=0]\n",
            "Epoch 2:  97% 707/730 [03:18<00:06,  3.56it/s, loss=1.096, v_num=0, classification_loss=1.17, regression_loss=0.00654, bbox_IOU=0]\n",
            "Epoch 2:  97% 708/730 [03:19<00:06,  3.55it/s, loss=1.096, v_num=0, classification_loss=1.17, regression_loss=0.00654, bbox_IOU=0]\n",
            "Epoch 2:  97% 709/730 [03:20<00:05,  3.54it/s, loss=1.096, v_num=0, classification_loss=1.17, regression_loss=0.00654, bbox_IOU=0]\n",
            "Epoch 2:  97% 710/730 [03:21<00:05,  3.52it/s, loss=1.096, v_num=0, classification_loss=1.17, regression_loss=0.00654, bbox_IOU=0]\n",
            "Epoch 2:  97% 711/730 [03:22<00:05,  3.51it/s, loss=1.096, v_num=0, classification_loss=1.17, regression_loss=0.00654, bbox_IOU=0]\n",
            "Epoch 2:  98% 712/730 [03:23<00:05,  3.49it/s, loss=1.096, v_num=0, classification_loss=1.17, regression_loss=0.00654, bbox_IOU=0]\n",
            "Epoch 2:  98% 713/730 [03:24<00:04,  3.48it/s, loss=1.096, v_num=0, classification_loss=1.17, regression_loss=0.00654, bbox_IOU=0]\n",
            "Epoch 2:  98% 714/730 [03:25<00:04,  3.47it/s, loss=1.096, v_num=0, classification_loss=1.17, regression_loss=0.00654, bbox_IOU=0]\n",
            "Epoch 2:  98% 715/730 [03:26<00:04,  3.46it/s, loss=1.096, v_num=0, classification_loss=1.17, regression_loss=0.00654, bbox_IOU=0]\n",
            "Epoch 2:  98% 716/730 [03:27<00:04,  3.44it/s, loss=1.096, v_num=0, classification_loss=1.17, regression_loss=0.00654, bbox_IOU=0]\n",
            "Epoch 2:  98% 717/730 [03:29<00:03,  3.43it/s, loss=1.096, v_num=0, classification_loss=1.17, regression_loss=0.00654, bbox_IOU=0]\n",
            "Epoch 2:  98% 718/730 [03:30<00:03,  3.42it/s, loss=1.096, v_num=0, classification_loss=1.17, regression_loss=0.00654, bbox_IOU=0]\n",
            "Epoch 2:  98% 719/730 [03:31<00:03,  3.40it/s, loss=1.096, v_num=0, classification_loss=1.17, regression_loss=0.00654, bbox_IOU=0]\n",
            "Epoch 2:  99% 720/730 [03:32<00:02,  3.39it/s, loss=1.096, v_num=0, classification_loss=1.17, regression_loss=0.00654, bbox_IOU=0]\n",
            "Epoch 2:  99% 721/730 [03:33<00:02,  3.38it/s, loss=1.096, v_num=0, classification_loss=1.17, regression_loss=0.00654, bbox_IOU=0]\n",
            "Epoch 2:  99% 722/730 [03:34<00:02,  3.37it/s, loss=1.096, v_num=0, classification_loss=1.17, regression_loss=0.00654, bbox_IOU=0]\n",
            "Epoch 2:  99% 723/730 [03:35<00:02,  3.36it/s, loss=1.096, v_num=0, classification_loss=1.17, regression_loss=0.00654, bbox_IOU=0]\n",
            "Epoch 2:  99% 724/730 [03:36<00:01,  3.34it/s, loss=1.096, v_num=0, classification_loss=1.17, regression_loss=0.00654, bbox_IOU=0]\n",
            "Epoch 2:  99% 725/730 [03:37<00:01,  3.33it/s, loss=1.096, v_num=0, classification_loss=1.17, regression_loss=0.00654, bbox_IOU=0]\n",
            "Epoch 2:  99% 726/730 [03:38<00:01,  3.32it/s, loss=1.096, v_num=0, classification_loss=1.17, regression_loss=0.00654, bbox_IOU=0]\n",
            "Epoch 2: 100% 727/730 [03:39<00:00,  3.31it/s, loss=1.096, v_num=0, classification_loss=1.17, regression_loss=0.00654, bbox_IOU=0]\n",
            "Epoch 2: 100% 728/730 [03:40<00:00,  3.29it/s, loss=1.096, v_num=0, classification_loss=1.17, regression_loss=0.00654, bbox_IOU=0]\n",
            "Epoch 2: 100% 729/730 [03:42<00:00,  3.28it/s, loss=1.096, v_num=0, classification_loss=1.17, regression_loss=0.00654, bbox_IOU=0]\n",
            "Epoch 2: 100% 730/730 [03:42<00:00,  3.28it/s, loss=1.096, v_num=0, classification_loss=1.17, regression_loss=0.00654, bbox_IOU=0]Running per image evaluation...\n",
            "Evaluate annotation type *bbox*\n",
            "DONE (t=0.02s).\n",
            "Accumulating evaluation results...\n",
            "DONE (t=0.02s).\n",
            "IoU metric: bbox\n",
            " Average Precision  (AP) @[ IoU=0.50:0.95 | area=   all | maxDets=100 ] = 0.000\n",
            " Average Precision  (AP) @[ IoU=0.50      | area=   all | maxDets=100 ] = 0.000\n",
            " Average Precision  (AP) @[ IoU=0.75      | area=   all | maxDets=100 ] = 0.000\n",
            " Average Precision  (AP) @[ IoU=0.50:0.95 | area= small | maxDets=100 ] = -1.000\n",
            " Average Precision  (AP) @[ IoU=0.50:0.95 | area=medium | maxDets=100 ] = -1.000\n",
            " Average Precision  (AP) @[ IoU=0.50:0.95 | area= large | maxDets=100 ] = 0.000\n",
            " Average Recall     (AR) @[ IoU=0.50:0.95 | area=   all | maxDets=  1 ] = 0.000\n",
            " Average Recall     (AR) @[ IoU=0.50:0.95 | area=   all | maxDets= 10 ] = 0.000\n",
            " Average Recall     (AR) @[ IoU=0.50:0.95 | area=   all | maxDets=100 ] = 0.000\n",
            " Average Recall     (AR) @[ IoU=0.50:0.95 | area= small | maxDets=100 ] = -1.000\n",
            " Average Recall     (AR) @[ IoU=0.50:0.95 | area=medium | maxDets=100 ] = -1.000\n",
            " Average Recall     (AR) @[ IoU=0.50:0.95 | area= large | maxDets=100 ] = 0.000\n",
            "Epoch 2: 100% 730/730 [03:43<00:00,  3.27it/s, loss=1.096, v_num=0, classification_loss=1.17, regression_loss=0.00654, bbox_IOU=0]\n",
            "Epoch 3:  13% 94/730 [00:25<02:52,  3.69it/s, loss=0.870, v_num=0, classification_loss=0.0826, regression_loss=0, bbox_IOU=0]Saving latest checkpoint..\n",
            "Epoch 3:  13% 94/730 [00:25<02:54,  3.64it/s, loss=0.870, v_num=0, classification_loss=0.0826, regression_loss=0, bbox_IOU=0]\n",
            "^C\n"
          ],
          "name": "stdout"
        }
      ]
    },
    {
      "cell_type": "code",
      "metadata": {
        "id": "ImrvMVsyoNab",
        "colab_type": "code",
        "colab": {}
      },
      "source": [
        ""
      ],
      "execution_count": null,
      "outputs": []
    }
  ]
}