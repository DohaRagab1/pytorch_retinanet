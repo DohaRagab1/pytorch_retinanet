{
  "nbformat": 4,
  "nbformat_minor": 0,
  "metadata": {
    "colab": {
      "name": "debugging_cuda_error.ipynb",
      "provenance": [],
      "collapsed_sections": [],
      "mount_file_id": "1a9VtI5w8QJ5x7TuRaxQugMbrmrNVnoMr",
      "authorship_tag": "ABX9TyN9KyAs/2g5bNKYGhTmX+eM",
      "include_colab_link": true
    },
    "kernelspec": {
      "name": "python3",
      "display_name": "Python 3"
    },
    "accelerator": "GPU"
  },
  "cells": [
    {
      "cell_type": "markdown",
      "metadata": {
        "id": "view-in-github",
        "colab_type": "text"
      },
      "source": [
        "<a href=\"https://colab.research.google.com/github/benihime91/pytorch_retinanet/blob/master/nbs/debugging_cuda_error.ipynb\" target=\"_parent\"><img src=\"https://colab.research.google.com/assets/colab-badge.svg\" alt=\"Open In Colab\"/></a>"
      ]
    },
    {
      "cell_type": "code",
      "metadata": {
        "id": "qwvtiC6j9ZA6",
        "colab_type": "code",
        "colab": {
          "base_uri": "https://localhost:8080/",
          "height": 136
        },
        "outputId": "697ebb7f-4e12-484b-ae76-07cfc54fa063"
      },
      "source": [
        "! git clone https://github.com/benihime91/pytorch_retinanet.git"
      ],
      "execution_count": 1,
      "outputs": [
        {
          "output_type": "stream",
          "text": [
            "Cloning into 'pytorch_retinanet'...\n",
            "remote: Enumerating objects: 42, done.\u001b[K\n",
            "remote: Counting objects:   2% (1/42)\u001b[K\rremote: Counting objects:   4% (2/42)\u001b[K\rremote: Counting objects:   7% (3/42)\u001b[K\rremote: Counting objects:   9% (4/42)\u001b[K\rremote: Counting objects:  11% (5/42)\u001b[K\rremote: Counting objects:  14% (6/42)\u001b[K\rremote: Counting objects:  16% (7/42)\u001b[K\rremote: Counting objects:  19% (8/42)\u001b[K\rremote: Counting objects:  21% (9/42)\u001b[K\rremote: Counting objects:  23% (10/42)\u001b[K\rremote: Counting objects:  26% (11/42)\u001b[K\rremote: Counting objects:  28% (12/42)\u001b[K\rremote: Counting objects:  30% (13/42)\u001b[K\rremote: Counting objects:  33% (14/42)\u001b[K\rremote: Counting objects:  35% (15/42)\u001b[K\rremote: Counting objects:  38% (16/42)\u001b[K\rremote: Counting objects:  40% (17/42)\u001b[K\rremote: Counting objects:  42% (18/42)\u001b[K\rremote: Counting objects:  45% (19/42)\u001b[K\rremote: Counting objects:  47% (20/42)\u001b[K\rremote: Counting objects:  50% (21/42)\u001b[K\rremote: Counting objects:  52% (22/42)\u001b[K\rremote: Counting objects:  54% (23/42)\u001b[K\rremote: Counting objects:  57% (24/42)\u001b[K\rremote: Counting objects:  59% (25/42)\u001b[K\rremote: Counting objects:  61% (26/42)\u001b[K\rremote: Counting objects:  64% (27/42)\u001b[K\rremote: Counting objects:  66% (28/42)\u001b[K\rremote: Counting objects:  69% (29/42)\u001b[K\rremote: Counting objects:  71% (30/42)\u001b[K\rremote: Counting objects:  73% (31/42)\u001b[K\rremote: Counting objects:  76% (32/42)\u001b[K\rremote: Counting objects:  78% (33/42)\u001b[K\rremote: Counting objects:  80% (34/42)\u001b[K\rremote: Counting objects:  83% (35/42)\u001b[K\rremote: Counting objects:  85% (36/42)\u001b[K\rremote: Counting objects:  88% (37/42)\u001b[K\rremote: Counting objects:  90% (38/42)\u001b[K\rremote: Counting objects:  92% (39/42)\u001b[K\rremote: Counting objects:  95% (40/42)\u001b[K\rremote: Counting objects:  97% (41/42)\u001b[K\rremote: Counting objects: 100% (42/42)\u001b[K\rremote: Counting objects: 100% (42/42), done.\u001b[K\n",
            "remote: Compressing objects: 100% (28/28), done.\u001b[K\n",
            "remote: Total 821 (delta 25), reused 28 (delta 14), pack-reused 779\u001b[K\n",
            "Receiving objects: 100% (821/821), 4.27 MiB | 1015.00 KiB/s, done.\n",
            "Resolving deltas: 100% (544/544), done.\n"
          ],
          "name": "stdout"
        }
      ]
    },
    {
      "cell_type": "code",
      "metadata": {
        "id": "PfOmCUuophol",
        "colab_type": "code",
        "colab": {
          "base_uri": "https://localhost:8080/",
          "height": 34
        },
        "outputId": "92f93819-05c8-4ff4-a36a-2669360f81da"
      },
      "source": [
        "! tar zxf /content/drive/My\\ Drive/Data/oxford-iiit-pet.tgz -C /content/ \n",
        "! echo \" >> Data Unziped\""
      ],
      "execution_count": 2,
      "outputs": [
        {
          "output_type": "stream",
          "text": [
            " >> Data Unziped\n"
          ],
          "name": "stdout"
        }
      ]
    },
    {
      "cell_type": "code",
      "metadata": {
        "id": "4FMDxcLzKWLj",
        "colab_type": "code",
        "colab": {
          "base_uri": "https://localhost:8080/",
          "height": 51
        },
        "outputId": "c30ac11f-3b20-4740-b318-16f0a0a2095b"
      },
      "source": [
        "%%bash\n",
        "pip install -U pytorch-lightning --quiet\n",
        "pip install -U git+https://github.com/albumentations-team/albumentations --quiet\n",
        "pip install -U bounding_box --quiet\n",
        "echo \" >> Libraries successfully installed !\""
      ],
      "execution_count": 3,
      "outputs": [
        {
          "output_type": "stream",
          "text": [
            " >> Libraries successfully installed !\n"
          ],
          "name": "stdout"
        },
        {
          "output_type": "stream",
          "text": [
            "ERROR: tensorflow 2.3.0 has requirement tensorboard<3,>=2.3.0, but you'll have tensorboard 2.2.0 which is incompatible.\n"
          ],
          "name": "stderr"
        }
      ]
    },
    {
      "cell_type": "code",
      "metadata": {
        "id": "_VxlAliJd9eg",
        "colab_type": "code",
        "colab": {}
      },
      "source": [
        "import os\n",
        "os.chdir('/content/pytorch_retinanet')"
      ],
      "execution_count": 4,
      "outputs": []
    },
    {
      "cell_type": "code",
      "metadata": {
        "id": "EWyEybEFdNj6",
        "colab_type": "code",
        "colab": {
          "base_uri": "https://localhost:8080/",
          "height": 1000
        },
        "outputId": "a3f1fb7a-951b-4508-c6ac-2b3e3ae506d7"
      },
      "source": [
        "! CUDA_LAUNCH_BLOCKING=1 python /content/pytorch_retinanet/cuda_error_decode.py"
      ],
      "execution_count": null,
      "outputs": [
        {
          "output_type": "stream",
          "text": [
            "2020-08-23 19:43:17.114383: I tensorflow/stream_executor/platform/default/dso_loader.cc:48] Successfully opened dynamic library libcudart.so.10.1\n",
            "Downloading: \"https://download.pytorch.org/models/resnet50-19c8e357.pth\" to /root/.cache/torch/hub/checkpoints/resnet50-19c8e357.pth\n",
            "100% 97.8M/97.8M [00:01<00:00, 60.0MB/s]\n",
            "GPU available: True, used: True\n",
            "TPU available: False, using: 0 TPU cores\n",
            "CUDA_VISIBLE_DEVICES: [0]\n",
            "Using native 16bit precision.\n",
            "/usr/local/lib/python3.6/dist-packages/pytorch_lightning/utilities/distributed.py:37: UserWarning: Could not log computational graph since the `model.example_input_array` attribute is not set or `input_array` was not given\n",
            "  warnings.warn(*args, **kwargs)\n",
            "\n",
            "  | Name  | Type      | Params\n",
            "------------------------------------\n",
            "0 | model | Retinanet | 37 M  \n",
            "creating index...\n",
            "index created!\n",
            "Epoch 0:  95% 691/730 [03:53<00:13,  2.97it/s, loss=1.403, v_num=0, classification_loss=0.451, regression_loss=0]   \n",
            "Validating: 0it [00:00, ?it/s]\u001b[A/usr/local/lib/python3.6/dist-packages/torchvision/ops/boxes.py:101: UserWarning: This overload of nonzero is deprecated:\n",
            "\tnonzero()\n",
            "Consider using one of the following signatures instead:\n",
            "\tnonzero(*, bool as_tuple) (Triggered internally at  /pytorch/torch/csrc/utils/python_arg_parser.cpp:766.)\n",
            "  keep = keep.nonzero().squeeze(1)\n",
            "\n",
            "Epoch 0:  95% 692/730 [03:54<00:12,  2.95it/s, loss=1.403, v_num=0, classification_loss=0.451, regression_loss=0]\n",
            "Epoch 0:  95% 693/730 [03:55<00:12,  2.94it/s, loss=1.403, v_num=0, classification_loss=0.451, regression_loss=0]\n",
            "Epoch 0:  95% 694/730 [03:56<00:12,  2.93it/s, loss=1.403, v_num=0, classification_loss=0.451, regression_loss=0]\n",
            "Epoch 0:  95% 695/730 [03:57<00:11,  2.92it/s, loss=1.403, v_num=0, classification_loss=0.451, regression_loss=0]\n",
            "Epoch 0:  95% 696/730 [03:59<00:11,  2.91it/s, loss=1.403, v_num=0, classification_loss=0.451, regression_loss=0]\n",
            "Epoch 0:  95% 697/730 [04:00<00:11,  2.90it/s, loss=1.403, v_num=0, classification_loss=0.451, regression_loss=0]\n",
            "Epoch 0:  96% 698/730 [04:01<00:11,  2.89it/s, loss=1.403, v_num=0, classification_loss=0.451, regression_loss=0]\n",
            "Epoch 0:  96% 699/730 [04:02<00:10,  2.88it/s, loss=1.403, v_num=0, classification_loss=0.451, regression_loss=0]\n",
            "Epoch 0:  96% 700/730 [04:03<00:10,  2.87it/s, loss=1.403, v_num=0, classification_loss=0.451, regression_loss=0]\n",
            "Epoch 0:  96% 701/730 [04:05<00:10,  2.86it/s, loss=1.403, v_num=0, classification_loss=0.451, regression_loss=0]\n",
            "Epoch 0:  96% 702/730 [04:06<00:09,  2.85it/s, loss=1.403, v_num=0, classification_loss=0.451, regression_loss=0]\n",
            "Epoch 0:  96% 703/730 [04:07<00:09,  2.84it/s, loss=1.403, v_num=0, classification_loss=0.451, regression_loss=0]\n",
            "Epoch 0:  96% 704/730 [04:08<00:09,  2.83it/s, loss=1.403, v_num=0, classification_loss=0.451, regression_loss=0]\n",
            "Epoch 0:  97% 705/730 [04:09<00:08,  2.82it/s, loss=1.403, v_num=0, classification_loss=0.451, regression_loss=0]\n",
            "Epoch 0:  97% 706/730 [04:10<00:08,  2.81it/s, loss=1.403, v_num=0, classification_loss=0.451, regression_loss=0]\n",
            "Epoch 0:  97% 707/730 [04:12<00:08,  2.81it/s, loss=1.403, v_num=0, classification_loss=0.451, regression_loss=0]\n",
            "Epoch 0:  97% 708/730 [04:13<00:07,  2.80it/s, loss=1.403, v_num=0, classification_loss=0.451, regression_loss=0]\n",
            "Epoch 0:  97% 709/730 [04:14<00:07,  2.79it/s, loss=1.403, v_num=0, classification_loss=0.451, regression_loss=0]\n",
            "Epoch 0:  97% 710/730 [04:15<00:07,  2.78it/s, loss=1.403, v_num=0, classification_loss=0.451, regression_loss=0]\n",
            "Epoch 0:  97% 711/730 [04:16<00:06,  2.77it/s, loss=1.403, v_num=0, classification_loss=0.451, regression_loss=0]\n",
            "Epoch 0:  98% 712/730 [04:17<00:06,  2.76it/s, loss=1.403, v_num=0, classification_loss=0.451, regression_loss=0]\n",
            "Epoch 0:  98% 713/730 [04:19<00:06,  2.75it/s, loss=1.403, v_num=0, classification_loss=0.451, regression_loss=0]\n",
            "Epoch 0:  98% 714/730 [04:20<00:05,  2.74it/s, loss=1.403, v_num=0, classification_loss=0.451, regression_loss=0]\n",
            "Epoch 0:  98% 715/730 [04:21<00:05,  2.74it/s, loss=1.403, v_num=0, classification_loss=0.451, regression_loss=0]\n",
            "Epoch 0:  98% 716/730 [04:22<00:05,  2.73it/s, loss=1.403, v_num=0, classification_loss=0.451, regression_loss=0]\n",
            "Epoch 0:  98% 717/730 [04:23<00:04,  2.72it/s, loss=1.403, v_num=0, classification_loss=0.451, regression_loss=0]\n",
            "Epoch 0:  98% 718/730 [04:24<00:04,  2.71it/s, loss=1.403, v_num=0, classification_loss=0.451, regression_loss=0]\n",
            "Epoch 0:  98% 719/730 [04:26<00:04,  2.70it/s, loss=1.403, v_num=0, classification_loss=0.451, regression_loss=0]\n",
            "Epoch 0:  99% 720/730 [04:27<00:03,  2.70it/s, loss=1.403, v_num=0, classification_loss=0.451, regression_loss=0]\n",
            "Epoch 0:  99% 721/730 [04:28<00:03,  2.69it/s, loss=1.403, v_num=0, classification_loss=0.451, regression_loss=0]\n",
            "Epoch 0:  99% 722/730 [04:29<00:02,  2.68it/s, loss=1.403, v_num=0, classification_loss=0.451, regression_loss=0]\n",
            "Epoch 0:  99% 723/730 [04:30<00:02,  2.67it/s, loss=1.403, v_num=0, classification_loss=0.451, regression_loss=0]\n",
            "Epoch 0:  99% 724/730 [04:31<00:02,  2.67it/s, loss=1.403, v_num=0, classification_loss=0.451, regression_loss=0]\n",
            "Epoch 0:  99% 725/730 [04:32<00:01,  2.66it/s, loss=1.403, v_num=0, classification_loss=0.451, regression_loss=0]\n",
            "Epoch 0:  99% 726/730 [04:33<00:01,  2.65it/s, loss=1.403, v_num=0, classification_loss=0.451, regression_loss=0]\n",
            "Epoch 0: 100% 727/730 [04:35<00:01,  2.64it/s, loss=1.403, v_num=0, classification_loss=0.451, regression_loss=0]\n",
            "Epoch 0: 100% 728/730 [04:36<00:00,  2.64it/s, loss=1.403, v_num=0, classification_loss=0.451, regression_loss=0]\n",
            "Epoch 0: 100% 729/730 [04:37<00:00,  2.63it/s, loss=1.403, v_num=0, classification_loss=0.451, regression_loss=0]\n",
            "Epoch 0: 100% 730/730 [04:37<00:00,  2.63it/s, loss=1.403, v_num=0, classification_loss=0.451, regression_loss=0]Running per image evaluation...\n",
            "Evaluate annotation type *bbox*\n",
            "DONE (t=0.03s).\n",
            "Accumulating evaluation results...\n",
            "DONE (t=0.03s).\n",
            "IoU metric: bbox\n",
            " Average Precision  (AP) @[ IoU=0.50:0.95 | area=   all | maxDets=100 ] = 0.050\n",
            " Average Precision  (AP) @[ IoU=0.50      | area=   all | maxDets=100 ] = 0.100\n",
            " Average Precision  (AP) @[ IoU=0.75      | area=   all | maxDets=100 ] = 0.000\n",
            " Average Precision  (AP) @[ IoU=0.50:0.95 | area= small | maxDets=100 ] = -1.000\n",
            " Average Precision  (AP) @[ IoU=0.50:0.95 | area=medium | maxDets=100 ] = -1.000\n",
            " Average Precision  (AP) @[ IoU=0.50:0.95 | area= large | maxDets=100 ] = 0.050\n",
            " Average Recall     (AR) @[ IoU=0.50:0.95 | area=   all | maxDets=  1 ] = 0.100\n",
            " Average Recall     (AR) @[ IoU=0.50:0.95 | area=   all | maxDets= 10 ] = 0.100\n",
            " Average Recall     (AR) @[ IoU=0.50:0.95 | area=   all | maxDets=100 ] = 0.100\n",
            " Average Recall     (AR) @[ IoU=0.50:0.95 | area= small | maxDets=100 ] = -1.000\n",
            " Average Recall     (AR) @[ IoU=0.50:0.95 | area=medium | maxDets=100 ] = -1.000\n",
            " Average Recall     (AR) @[ IoU=0.50:0.95 | area= large | maxDets=100 ] = 0.100\n",
            "Epoch 0: 100% 730/730 [04:40<00:00,  2.60it/s, loss=1.403, v_num=0, classification_loss=0.451, regression_loss=0, bbox_IOU=0.05]\n",
            "Epoch 1:  31% 228/730 [01:18<02:52,  2.91it/s, loss=1.559, v_num=0, classification_loss=1.09, regression_loss=0.308, bbox_IOU=0.05]"
          ],
          "name": "stdout"
        }
      ]
    },
    {
      "cell_type": "code",
      "metadata": {
        "id": "ImrvMVsyoNab",
        "colab_type": "code",
        "colab": {}
      },
      "source": [
        ""
      ],
      "execution_count": null,
      "outputs": []
    }
  ]
}