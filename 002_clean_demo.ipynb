{
  "nbformat": 4,
  "nbformat_minor": 0,
  "metadata": {
    "colab": {
      "name": "002_clean_demo.ipynb",
      "provenance": [],
      "collapsed_sections": [],
      "include_colab_link": true
    },
    "kernelspec": {
      "name": "python3",
      "display_name": "Python 3"
    },
    "accelerator": "GPU"
  },
  "cells": [
    {
      "cell_type": "markdown",
      "metadata": {
        "id": "view-in-github",
        "colab_type": "text"
      },
      "source": [
        "<a href=\"https://colab.research.google.com/github/benihime91/pytorch_retinanet/blob/master/002_clean_demo.ipynb\" target=\"_parent\"><img src=\"https://colab.research.google.com/assets/colab-badge.svg\" alt=\"Open In Colab\"/></a>"
      ]
    },
    {
      "cell_type": "markdown",
      "metadata": {
        "id": "z_y280Hh3Bct"
      },
      "source": [
        "# **Introduction**\n",
        "\n",
        "In this notebook, we implement [PyTorch RetinaNet](https://github.com/benihime91) for custom dataset. \n",
        "\n",
        "We will take the following steps to implement PyTorch RetinaNet on our custom data:\n",
        "* Install PyTorch RetinaNet along with required dependencies.\n",
        "* Download Custom Dataset.\n",
        "* Write Training Configuation yaml file .\n",
        "* Train  Detection Model .\n",
        "* Use Trained PyTorch RetinaNet Object Detection For Inference on Test Images.\n"
      ]
    },
    {
      "cell_type": "markdown",
      "metadata": {
        "id": "UKhftVgvIZUC"
      },
      "source": [
        "### **Setting up Colab :**"
      ]
    },
    {
      "cell_type": "code",
      "metadata": {
        "id": "qeiJgg30wyo6"
      },
      "source": [
        "# What GPU do we have ?\n",
        "!nvidia-smi"
      ],
      "execution_count": null,
      "outputs": []
    },
    {
      "cell_type": "code",
      "metadata": {
        "id": "bwbGnBBawyiS"
      },
      "source": [
        "# Ensure colab doesn't disconnect\n",
        "%%javascript\n",
        "function ClickConnect(){\n",
        "console.log(\"Working\");\n",
        "document.querySelector(\"colab-toolbar-button#connect\").click()\n",
        "}setInterval(ClickConnect,60000)"
      ],
      "execution_count": null,
      "outputs": []
    },
    {
      "cell_type": "markdown",
      "metadata": {
        "id": "3d_3kuuO33HJ"
      },
      "source": [
        "# **Install Pytorch Retinanet and Dependencies** :"
      ]
    },
    {
      "cell_type": "code",
      "metadata": {
        "id": "rmBDcHdd6ZcP"
      },
      "source": [
        "# Clone the RetinaNet Repo\n",
        "!git clone https://github.com/benihime91/pytorch_retinanet.git\n",
        "# install dependencies\n",
        "!pip install pytorch-lightning omegaconf wandb --quiet\n",
        "!pip install git+https://github.com/albumentations-team/albumentations --quiet\n",
        "!echo \"[   OK   ] Installed all depedencies \""
      ],
      "execution_count": null,
      "outputs": []
    },
    {
      "cell_type": "code",
      "metadata": {
        "id": "kktjD0zv2wAZ"
      },
      "source": [
        "#Update sys path to enclude the pytorch RetinaNet modules\n",
        "import warnings\n",
        "import os\n",
        "import sys\n",
        "\n",
        "warnings.filterwarnings('ignore')\n",
        "sys.path.append(\"/content/pytorch_retinanet/\")\n",
        "%load_ext autoreload\n",
        "%autoreload 2\n",
        "%matplotlib inline\n",
        "\n",
        "!echo \"[   OK   ] Setup Done \""
      ],
      "execution_count": null,
      "outputs": []
    },
    {
      "cell_type": "markdown",
      "metadata": {
        "id": "dU1gg2tQ4JwT"
      },
      "source": [
        "# **Prepare Pytorch Retinanet Object Detection Training Data**\n",
        "\n",
        "We will use the **[BCCD Dataset](https://public.roboflow.com/object-detection/bccd)** from RoboFlow. There are 364 images across three classes.\n",
        "\n",
        "\n",
        "To train on the custom dataset the data needs to be in either **csv** or **pascal-voc** format . Roboflow makes it easier to generate the datasets. We can directly download the datsets in required format.\n",
        "\n",
        "We will download the dataset in **Pascal-VOC** format and then use in-built methods available in PyTorch Retinanet to convert our data into **csv** format."
      ]
    },
    {
      "cell_type": "code",
      "metadata": {
        "id": "ccVmU0ii5qOk"
      },
      "source": [
        "#Downloading data from Roboflow\n",
        "#UPDATE THIS LINK - get our data from Roboflow\n",
        "%cd /content\n",
        "!curl -L \"[ROBOFLOW DOWNLOAD LINK]\" > roboflow.zip; unzip -qq roboflow.zip; rm roboflow.zip"
      ],
      "execution_count": null,
      "outputs": []
    },
    {
      "cell_type": "code",
      "metadata": {
        "id": "9151YOX46gUg"
      },
      "source": [
        "#Set up paths \n",
        "\n",
        "#Path to where the Images are stored\n",
        "TRAIN_IMAGE_PATH = \"/content/train/\"\n",
        "VALID_IMAGE_PATH = \"/content/valid/\"\n",
        "TEST_IMAGE_PATH  = \"/content/test/\"\n",
        "#Path to where annotations are stored\n",
        "TRAIN_ANNOT_PATH = \"/content/train/\"\n",
        "VALID_ANNOT_PATH = \"/content/valid/\"\n",
        "TEST_ANNOT_PATH  = \"/content/test/\""
      ],
      "execution_count": null,
      "outputs": []
    },
    {
      "cell_type": "code",
      "metadata": {
        "id": "44qIjriixflK"
      },
      "source": [
        "import pandas as pd\n",
        "from utils.pascal import convert_annotations_to_df\n",
        "from PIL import Image\n",
        "import cv2\n",
        "import numpy as np\n",
        "\n",
        "pd.set_option(\"display.max_colwidth\", None)\n",
        "np.random.seed(123)"
      ],
      "execution_count": null,
      "outputs": []
    },
    {
      "cell_type": "markdown",
      "metadata": {
        "id": "L5sQYcci76ad"
      },
      "source": [
        "## **Generate csv file from XML Annotations:**"
      ]
    },
    {
      "cell_type": "code",
      "metadata": {
        "id": "0zNGhr6D7xGN"
      },
      "source": [
        "#convert xml files to pandas DataFrames\n",
        "train_df = convert_annotations_to_df(TRAIN_ANNOT_PATH, TRAIN_IMAGE_PATH, image_set=\"train\")\n",
        "valid_df = convert_annotations_to_df(VALID_ANNOT_PATH, VALID_IMAGE_PATH, image_set=\"test\")\n",
        "test_df  = convert_annotations_to_df(TEST_ANNOT_PATH, TEST_IMAGE_PATH, image_set=\"test\")\n",
        "\n",
        "!echo \"[   DONE  ] DataFrame(s) Generated !\"\n",
        "\n",
        "\n",
        "def remove_invalid_annots(df):\n",
        "    \"\"\"\n",
        "    Removes annotations where xmax, ymax < xmin,ymin\n",
        "    from the given dataframe\n",
        "    \"\"\"\n",
        "    df = df[df.xmax > df.xmin]\n",
        "    df = df[df.ymax > df.ymin]\n",
        "    df.reset_index(inplace=True, drop=True)\n",
        "    return df\n",
        "\n",
        "# removing annotations that are not valid annotations\n",
        "!echo \"[   INFO  ] Removing invalid annotations ... \"\n",
        "train_df = remove_invalid_annots(train_df)\n",
        "valid_df = remove_invalid_annots(valid_df)\n",
        "test_df  = remove_invalid_annots(test_df)\n",
        "!echo \"[   DONE  ] OK !\""
      ],
      "execution_count": null,
      "outputs": []
    },
    {
      "cell_type": "markdown",
      "metadata": {
        "id": "0GtBhU7OSXfN"
      },
      "source": [
        "### **CSV Files are as follows :**"
      ]
    },
    {
      "cell_type": "code",
      "metadata": {
        "id": "nfFsOeXvyNNI"
      },
      "source": [
        "train_df.head()"
      ],
      "execution_count": null,
      "outputs": []
    },
    {
      "cell_type": "code",
      "metadata": {
        "id": "yNshyfK6SPD2"
      },
      "source": [
        "valid_df.head()"
      ],
      "execution_count": null,
      "outputs": []
    },
    {
      "cell_type": "code",
      "metadata": {
        "id": "OJYAKrj_SOnY"
      },
      "source": [
        "test_df.head()"
      ],
      "execution_count": null,
      "outputs": []
    },
    {
      "cell_type": "code",
      "metadata": {
        "id": "s1LWrVU72xLV"
      },
      "source": [
        "#Paths where to save the generated dataframes\n",
        "TRAIN_CSV = \"/content/train_data.csv\"\n",
        "VALID_CSV = \"/content/valid_data.csv\"\n",
        "TEST_CSV = \"/content/test_data.csv\"\n",
        "\n",
        "# #Save the dataframes to memory\n",
        "train_df.to_csv(TRAIN_CSV, index=False)\n",
        "valid_df.to_csv(VALID_CSV, index=False)\n",
        "test_df.to_csv(TEST_CSV, index=False)"
      ],
      "execution_count": null,
      "outputs": []
    },
    {
      "cell_type": "code",
      "metadata": {
        "id": "M5iycBm37bZG"
      },
      "source": [
        "train_df = pd.read_csv(TRAIN_CSV)\n",
        "valid_df = pd.read_csv(VALID_CSV)\n",
        "test_df = pd.read_csv(TEST_CSV)"
      ],
      "execution_count": null,
      "outputs": []
    },
    {
      "cell_type": "markdown",
      "metadata": {
        "id": "NiyBeJVe_Ofo"
      },
      "source": [
        "# **View Images from the Dataset** :\n",
        "\n",
        "We can use the fn `visualize_boxes_and_labels_on_image_array` from the RetinaNet repo to visualize images and the bounding boxes over them. To use this function we need to first create a Label Map, which is a list that contains all the classes at index corresponding to the integer labels ."
      ]
    },
    {
      "cell_type": "markdown",
      "metadata": {
        "id": "z_YkstkExrnq"
      },
      "source": [
        "##**Let's now generate the Label Map which is used for visualization:**"
      ]
    },
    {
      "cell_type": "code",
      "metadata": {
        "id": "dRXOIHwXyFY8"
      },
      "source": [
        "from utils.pascal import generate_pascal_category_names\n",
        "\n",
        "LABEL_MAP = generate_pascal_category_names(train_df)\n",
        "LABEL_MAP"
      ],
      "execution_count": null,
      "outputs": []
    },
    {
      "cell_type": "markdown",
      "metadata": {
        "id": "9j8zlT8I_3Ey"
      },
      "source": [
        "##**Plot images with Bounding boxes over them**:"
      ]
    },
    {
      "cell_type": "code",
      "metadata": {
        "id": "TlWOPTZz_-fx"
      },
      "source": [
        "from utils import visualize_boxes_and_labels_on_image_array as viz_bbs\n",
        "import matplotlib.pyplot as plt\n",
        "\n",
        "\n",
        "def grab_bbs_(dataframe, index:int):\n",
        "    \"\"\"\n",
        "    Takes in a Pandas DataFrame and a index number\n",
        "    Returns filename of the image and all the bounding boxes and class_labels\n",
        "    corresponding the image that is at the given index\n",
        "\n",
        "    Params\n",
        "    ------\n",
        "        dataframe : a pandas dataframe object\n",
        "        index (int) : a integer corresponding to a index in the pandas dataframe\n",
        "\n",
        "    Returns\n",
        "    -------\n",
        "        fname (str) : path to the selected image.\n",
        "        bbbs (list) : a list containing the bounding box annotations for the `fname`.\n",
        "        cls (list) : a list containing the integer class labels for the box annotations.  \n",
        "    \"\"\"\n",
        "    assert index <= len(dataframe), f\"[  ERROR  ] Invalid index for dataframe with len: {len(dataframe)}\"\n",
        "    fname = dataframe.filename[index]\n",
        "    locs  = dataframe.loc[dataframe.filename == fname]\n",
        "    bbs   = locs[[\"xmin\", \"ymin\", \"xmax\", \"ymax\"]].values\n",
        "    cls   = locs[\"labels\"].values\n",
        "    return fname, bbs, cls\n",
        "\n",
        "def load_image_from_data(dataframe, index):\n",
        "    \"\"\"\n",
        "    Loads in a image from the given dataframe at given index\n",
        "    Returns a PIL image object contraining all the bounding boxes over\n",
        "    the image\n",
        "    \"\"\"\n",
        "    image, boxes, clas = grab_bbs_(dataframe, index)\n",
        "    #load and normalize the image\n",
        "    image = Image.open(image)\n",
        "    image = np.array(image) / 255.\n",
        "    image = viz_bbs(image, boxes, scores=None, classes=clas, label_map=LABEL_MAP)\n",
        "    return image"
      ],
      "execution_count": null,
      "outputs": []
    },
    {
      "cell_type": "markdown",
      "metadata": {
        "id": "_mj_TbREDGio"
      },
      "source": [
        "### **Image from Train Data:**"
      ]
    },
    {
      "cell_type": "code",
      "metadata": {
        "id": "-g7KiJXfAfwU"
      },
      "source": [
        "image = load_image_from_data(train_df, index=10)\n",
        "image"
      ],
      "execution_count": null,
      "outputs": []
    },
    {
      "cell_type": "markdown",
      "metadata": {
        "id": "hfQbwjKnDKVk"
      },
      "source": [
        "### **Image from Validation data:**"
      ]
    },
    {
      "cell_type": "code",
      "metadata": {
        "id": "gLn5jQirCOsz"
      },
      "source": [
        "image = load_image_from_data(valid_df, index=10)\n",
        "image"
      ],
      "execution_count": null,
      "outputs": []
    },
    {
      "cell_type": "markdown",
      "metadata": {
        "id": "dinrNPvFDN_z"
      },
      "source": [
        "###**Image from Test Data:**"
      ]
    },
    {
      "cell_type": "code",
      "metadata": {
        "id": "eFAMTxBz3QEc"
      },
      "source": [
        "image = load_image_from_data(test_df, index=5)\n",
        "image"
      ],
      "execution_count": null,
      "outputs": []
    },
    {
      "cell_type": "markdown",
      "metadata": {
        "id": "ZZ7bjvvAzely"
      },
      "source": [
        "#**Configure Custom PyTorch RetianNet Object Detection Training Configuration** :\n",
        "\n",
        "The configuration file is present in `/content/pytorch_retinanet/hparams.yaml`.\n"
      ]
    },
    {
      "cell_type": "code",
      "metadata": {
        "id": "F-LRcxooz9W-"
      },
      "source": [
        "from omegaconf import OmegaConf\n",
        "\n",
        "#load in the hparams.ymal file using Omegaconf\n",
        "hparams = OmegaConf.load(\"/content/pytorch_retinanet/hparams.yaml\")\n",
        "\n",
        "# ========================================================================= #\n",
        "# MODIFICATION OF THE CONFIG FILE TO FIX PATHS AND DATSET-ARGUEMENTS :\n",
        "# ========================================================================= #\n",
        "hparams.dataset.kind        = \"csv\"\n",
        "hparams.dataset.trn_paths   = TRAIN_CSV #path to the train csv file\n",
        "hparams.dataset.valid_paths = VALID_CSV #path to the valid csv file\n",
        "hparams.dataset.test_paths  = TEST_CSV  #path to the test  csv file\n",
        "#batch size\n",
        "hparams.dataloader.train_bs = 1       #train batch size\n",
        "hparams.dataloader.valid_bs = 28      #valid batch size\n",
        "hparams.dataloader.test_bs  = 28      #test batch size\n",
        "#Number of classes in the dataset (excluding the '__background__' class)\n",
        "hparams.model.num_classes   = len(LABEL_MAP) - 1\n",
        "hparams.model.backbone_kind = \"resnet34\" # resnet backbone for the RetinaNet model\n",
        "hparams.model.min_size      = 800 #min size of the smallese size of the image after resize\n",
        "hparams.model.max_size      = 800 #maximum size longest size of the image after resize\n",
        "\n",
        "#optimizer\n",
        "hparams.optimizer = {\n",
        "    \"class_name\": \"torch.optim.SGD\", \n",
        "    \"params\": {\"lr\": 0.005, \"momentum\": 0.9, \"weight_decay\" : 0.01,},\n",
        "    }\n",
        "#scheduler\n",
        "hparams.scheduler = {\n",
        "    \"class_name\" : \"torch.optim.lr_scheduler.StepLR\",\n",
        "    \"params\"     : {\"step_size\": 10, \"gamma\":0.1},\n",
        "    \"interval\"   : \"epoch\",\n",
        "    \"frequency\"  : 1,\n",
        "    \"monitor\"    : False\n",
        "}\n",
        "\n",
        "print(OmegaConf.to_yaml(hparams))"
      ],
      "execution_count": null,
      "outputs": []
    },
    {
      "cell_type": "markdown",
      "metadata": {
        "id": "bKDC6FqWFcPk"
      },
      "source": [
        "#**Instantiate Lightning-Module and Lightning-Trainer**"
      ]
    },
    {
      "cell_type": "code",
      "metadata": {
        "id": "t27TtCaAFyWG"
      },
      "source": [
        "import time\n",
        "import pytorch_lightning as pl\n",
        "\n",
        "from pytorch_lightning import Trainer\n",
        "from pytorch_lightning.loggers import *\n",
        "from pytorch_lightning.callbacks import *\n",
        "from model import RetinaNetModel, LogCallback\n",
        "\n",
        "# seed so that results are reproducible\n",
        "pl.seed_everything(123)"
      ],
      "execution_count": null,
      "outputs": []
    },
    {
      "cell_type": "markdown",
      "metadata": {
        "id": "K5lZ9lbNI5Ow"
      },
      "source": [
        "## **Load in the Lighning-Trainer :**"
      ]
    },
    {
      "cell_type": "code",
      "metadata": {
        "id": "Vu6uttXD1NlZ"
      },
      "source": [
        "# ============================================================ #\n",
        "# INSTANTIATE LIGHTNING-TRAINER with CALLBACKS :\n",
        "# ============================================================ #\n",
        "# NOTE: \n",
        "# For a list of whole trainer specific arguments see : \n",
        "# https://pytorch-lightning.readthedocs.io/en/latest/trainer.html\n",
        "\n",
        "#Logger\n",
        "#check: https://pytorch-lightning.readthedocs.io/en/latest/loggers.html,for all supported loggers\n",
        "#we will Tensorboard\n",
        "LOGGER = TensorBoardLogger(\"/content/tb_logs\", name='retina_Lightning')\n",
        "\n",
        "#Learning-rate Logger to log the learning-rate to the logger\n",
        "LR_LOGGER = LearningRateMonitor(logging_interval=\"step\")\n",
        "\n",
        "#Model Checkpoint Callback, this callback will save checkpoints \n",
        "#each time our val loss decreases\n",
        "fname =f\"/content/checkpoints/\"\n",
        "os.makedirs(fname, exist_ok=True)\n",
        "CHECKPOINT_CALLBACK = ModelCheckpoint(fname, mode=\"min\", monitor=\"val_loss\", save_top_k=3,)\n",
        "\n",
        "#callback for early-stopping\n",
        "EARLY_STOPPING_CALLBACK = EarlyStopping(mode=\"min\", monitor=\"val_loss\", patience=10, verbose=True)\n",
        "\n",
        "#instantiate LightningTrainer\n",
        "trainer = Trainer(\n",
        "    precision=16, \n",
        "    max_epochs=30,\n",
        "    gpus=1, \n",
        "    logger=[LOGGER],\n",
        "    checkpoint_callback=CHECKPOINT_CALLBACK,\n",
        "    callbacks=[LogCallback(), LR_LOGGER, EARLY_STOPPING_CALLBACK], \n",
        "    weights_summary=None,\n",
        "    terminate_on_nan=True, \n",
        "    benchmark=True,\n",
        "    );"
      ],
      "execution_count": null,
      "outputs": []
    },
    {
      "cell_type": "markdown",
      "metadata": {
        "id": "5HEM4pVdF8EC"
      },
      "source": [
        "##**Load in the Lighning-Module using the hparams file modified above & Start Train :**"
      ]
    },
    {
      "cell_type": "code",
      "metadata": {
        "id": "HvFY8uE0TubB"
      },
      "source": [
        "# Instantiate lightning-module\n",
        "litModel = RetinaNetModel(hparams=hparams)"
      ],
      "execution_count": null,
      "outputs": []
    },
    {
      "cell_type": "code",
      "metadata": {
        "id": "zyvMOPvu4FgZ"
      },
      "source": [
        "trainer.fit(litModel)"
      ],
      "execution_count": null,
      "outputs": []
    },
    {
      "cell_type": "code",
      "metadata": {
        "id": "bEkjqsb2mcPG"
      },
      "source": [
        "#Tensorboard logs\n",
        "%load_ext tensorboard\n",
        "%tensorboard --logdir \"/content/tb_logs\""
      ],
      "execution_count": null,
      "outputs": []
    },
    {
      "cell_type": "markdown",
      "metadata": {
        "id": "e5rJskGFA9qN"
      },
      "source": [
        "#**Evaluating the trained-model using COCO-API Metrics** : "
      ]
    },
    {
      "cell_type": "code",
      "metadata": {
        "id": "Qrha_GWi4HCN"
      },
      "source": [
        "# Evaluations results on the test/ validation dataset(if test dataset is not given)\n",
        "# using COCO API\n",
        "trainer.test(litModel)"
      ],
      "execution_count": null,
      "outputs": []
    },
    {
      "cell_type": "markdown",
      "metadata": {
        "id": "NcmsVktE4XtC"
      },
      "source": [
        "# **Export the model weights** :"
      ]
    },
    {
      "cell_type": "code",
      "metadata": {
        "id": "QWWz3xSeBZEb"
      },
      "source": [
        "import torch\n",
        "\n",
        "PATH = f\"/content/trained_weights.pth\"\n",
        "torch.save(litModel.model.state_dict(), PATH)"
      ],
      "execution_count": null,
      "outputs": []
    },
    {
      "cell_type": "markdown",
      "metadata": {
        "id": "l3Jlr8ZNGuqW"
      },
      "source": [
        "#**Load PyTorch Model from the trained Lightning-Module weights :**"
      ]
    },
    {
      "cell_type": "code",
      "metadata": {
        "id": "95lTR3rQBfeo"
      },
      "source": [
        "from retinanet import Retinanet\n",
        "\n",
        "#load saved model state dict\n",
        "state_dict = torch.load(PATH)\n",
        "#model arguments same as the arguments used to train the model\n",
        "model_args = hparams.model\n",
        "#load pytorch model without the lightning-module\n",
        "#using args and state dict\n",
        "MODEL      = Retinanet(**model_args)\n",
        "MODEL.load_state_dict(state_dict)\n",
        "MODEL.eval()\n",
        "MODEL.to(\"cuda:0\");"
      ],
      "execution_count": null,
      "outputs": []
    },
    {
      "cell_type": "markdown",
      "metadata": {
        "id": "DBCuWQO2BbTO"
      },
      "source": [
        "# **Run Inference on Test Images with Custom PyTorch Object Detector**"
      ]
    },
    {
      "cell_type": "code",
      "metadata": {
        "id": "BIwLxqKcEBlT"
      },
      "source": [
        "from PIL import Image\n",
        "import numpy as np\n",
        "import cv2\n",
        "import albumentations as A\n",
        "from albumentations.pytorch import ToTensorV2\n",
        "\n",
        "@torch.no_grad()\n",
        "def get_preds(path, threshold=0.6,):\n",
        "    \"\"\"\n",
        "    Generates predictions on the given image from the given path.\n",
        "\n",
        "    Params\n",
        "    ------\n",
        "        image_path (str) : Path to the input Image\n",
        "        threshold (float): Score threshold to filter predictions\n",
        "\n",
        "    Returns\n",
        "    -------\n",
        "        A Dictionary contatining the predictions from generated from the model on \n",
        "        the given image. \n",
        "        Keys of the dictionary: \n",
        "          - \"boxes\" : bounding-box co-ordinates\n",
        "          - \"labels\": class labels for the bounding box co-ordinates.\n",
        "          - \"scores\": scores for the bounding box co-ordinates.\n",
        "    \"\"\"\n",
        "    image = cv2.cvtColor(cv2.imread(path), cv2.COLOR_BGR2RGB)\n",
        "    \n",
        "    INFER_TRANSFORMS = A.Compose([\n",
        "        A.ToFloat(max_value=255.0, always_apply=True),\n",
        "        ToTensorV2(always_apply=True)\n",
        "        ])\n",
        "    \n",
        "    TENSOR_IMAGE = INFER_TRANSFORMS(image=image)[\"image\"].to(\"cuda:0\")\n",
        "    PREDICTIONS  = MODEL.predict([TENSOR_IMAGE])\n",
        "    return PREDICTIONS[0]\n",
        "\n",
        "def detect(image_path, threshold=0.6):\n",
        "    \"\"\"\n",
        "    Generate detections on the image that is present in \n",
        "    the given image path\n",
        "\n",
        "    Params\n",
        "    ------\n",
        "        image_path `(str)` : Path to the input Image\n",
        "        threshold `(float)`: Score threshold to filter predictions\n",
        "    \n",
        "    Returns\n",
        "    -------\n",
        "        boxes  `(np.array)`: filtered absolute bounding box co-ordinates.\n",
        "        labels `(np.array)`: class labels for the bounding box co-ordinates.\n",
        "        scores `(np.array)`: scores for the bounding box co-ordinates.\n",
        "    \"\"\"\n",
        "    # Generate predictions for the given image\n",
        "    preds = get_preds(image_path, threshold,)\n",
        "    # print(preds)\n",
        "    # Filter predictions\n",
        "    boxes, labels, scores = preds[\"boxes\"], preds[\"labels\"], preds[\"scores\"]\n",
        "    mask   = scores > threshold\n",
        "    boxes  = boxes[mask]\n",
        "    labels = labels[mask]\n",
        "    scores = scores[mask]\n",
        "    return boxes.cpu().numpy(), labels.cpu().numpy(), scores.cpu().numpy()\n",
        "\n",
        "def draw_on_image(image_path, boxes, scores, classes, label_map=LABEL_MAP):\n",
        "    \"\"\"\n",
        "    Draw bounding box over the image at image path, with the scores and classes\n",
        "    Returns a PIL image object.\n",
        "    \n",
        "    Params\n",
        "    ------ \n",
        "        image_path `(str)`   : Path to the input Image\n",
        "        boxes `(List[N,4])`  : absolute bouding box co-ordiates in the form `[xmin,ymin,xmax,ymax]`.\n",
        "        scores `(List[N])`   : List containing the scores for each of the bounding box.\n",
        "        classes `(`List[N])` : List containing the class_labels for each of the bounding box.\n",
        "        label_map `(List)`   : List of the labels\n",
        "\n",
        "    Returns\n",
        "    -------\n",
        "        A PIL Image object\n",
        "    \"\"\"\n",
        "    image = Image.open(image_path)\n",
        "    image = np.array(image) / 255.\n",
        "    image = viz_bbs(image, boxes, scores=scores, classes=classes, label_map=LABEL_MAP)\n",
        "    return image"
      ],
      "execution_count": null,
      "outputs": []
    },
    {
      "cell_type": "code",
      "metadata": {
        "id": "1hjH5gh08c_9"
      },
      "source": [
        "#Path to the image\n",
        "image_path = test_df.filename[10]\n",
        "#generate predictions for the image\n",
        "boxes, labels, scores = detect(image_path, threshold=0.6)\n",
        "\n",
        "image = draw_on_image(image_path, boxes, scores, labels)\n",
        "\n",
        "image"
      ],
      "execution_count": null,
      "outputs": []
    },
    {
      "cell_type": "code",
      "metadata": {
        "id": "SzsjAdAeEtUj"
      },
      "source": [
        ""
      ],
      "execution_count": null,
      "outputs": []
    }
  ]
}